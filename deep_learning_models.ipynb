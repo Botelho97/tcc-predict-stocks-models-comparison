{
 "cells": [
  {
   "cell_type": "code",
   "execution_count": 23,
   "id": "f81b433e",
   "metadata": {},
   "outputs": [],
   "source": [
    "import pandas as pd\n",
    "import matplotlib.pyplot as plt\n",
    "import seaborn as sns\n",
    "from sklearn.tree import DecisionTreeRegressor, plot_tree\n",
    "from sklearn.metrics import root_mean_squared_error, mean_absolute_percentage_error, r2_score\n",
    "from matplotlib import rcParams\n",
    "from sklearn.preprocessing import MinMaxScaler\n",
    "import numpy as np\n",
    "from models_functions import custom_train_test\n",
    "\n",
    "rcParams['figure.figsize'] = 18, 6"
   ]
  },
  {
   "cell_type": "code",
   "execution_count": 2,
   "id": "6566a1f5",
   "metadata": {},
   "outputs": [
    {
     "data": {
      "application/vnd.microsoft.datawrangler.viewer.v0+json": {
       "columns": [
        {
         "name": "index",
         "rawType": "int64",
         "type": "integer"
        },
        {
         "name": "Date",
         "rawType": "object",
         "type": "string"
        },
        {
         "name": "BBAS3",
         "rawType": "float64",
         "type": "float"
        },
        {
         "name": "SELIC",
         "rawType": "float64",
         "type": "float"
        },
        {
         "name": "Cambio",
         "rawType": "float64",
         "type": "float"
        },
        {
         "name": "IPCA",
         "rawType": "float64",
         "type": "float"
        }
       ],
       "ref": "19e0373f-d85c-4af3-bafb-8a7d1a36c945",
       "rows": [
        [
         "0",
         "2017-01-02",
         "8.264060974121094",
         "0.1375",
         "3.2723",
         "0.0535395444201696"
        ],
        [
         "1",
         "2017-01-03",
         "8.642154693603516",
         "0.1375",
         "3.2626",
         "0.0535395444201696"
        ],
        [
         "2",
         "2017-01-04",
         "8.597146034240723",
         "0.1375",
         "3.2327",
         "0.0535395444201696"
        ],
        [
         "3",
         "2017-01-05",
         "8.576143264770508",
         "0.1375",
         "3.2123",
         "0.0535395444201696"
        ],
        [
         "4",
         "2017-01-06",
         "8.669159889221191",
         "0.1375",
         "3.2051",
         "0.0535395444201696"
        ]
       ],
       "shape": {
        "columns": 5,
        "rows": 5
       }
      },
      "text/html": [
       "<div>\n",
       "<style scoped>\n",
       "    .dataframe tbody tr th:only-of-type {\n",
       "        vertical-align: middle;\n",
       "    }\n",
       "\n",
       "    .dataframe tbody tr th {\n",
       "        vertical-align: top;\n",
       "    }\n",
       "\n",
       "    .dataframe thead th {\n",
       "        text-align: right;\n",
       "    }\n",
       "</style>\n",
       "<table border=\"1\" class=\"dataframe\">\n",
       "  <thead>\n",
       "    <tr style=\"text-align: right;\">\n",
       "      <th></th>\n",
       "      <th>Date</th>\n",
       "      <th>BBAS3</th>\n",
       "      <th>SELIC</th>\n",
       "      <th>Cambio</th>\n",
       "      <th>IPCA</th>\n",
       "    </tr>\n",
       "  </thead>\n",
       "  <tbody>\n",
       "    <tr>\n",
       "      <th>0</th>\n",
       "      <td>2017-01-02</td>\n",
       "      <td>8.264061</td>\n",
       "      <td>0.1375</td>\n",
       "      <td>3.2723</td>\n",
       "      <td>0.05354</td>\n",
       "    </tr>\n",
       "    <tr>\n",
       "      <th>1</th>\n",
       "      <td>2017-01-03</td>\n",
       "      <td>8.642155</td>\n",
       "      <td>0.1375</td>\n",
       "      <td>3.2626</td>\n",
       "      <td>0.05354</td>\n",
       "    </tr>\n",
       "    <tr>\n",
       "      <th>2</th>\n",
       "      <td>2017-01-04</td>\n",
       "      <td>8.597146</td>\n",
       "      <td>0.1375</td>\n",
       "      <td>3.2327</td>\n",
       "      <td>0.05354</td>\n",
       "    </tr>\n",
       "    <tr>\n",
       "      <th>3</th>\n",
       "      <td>2017-01-05</td>\n",
       "      <td>8.576143</td>\n",
       "      <td>0.1375</td>\n",
       "      <td>3.2123</td>\n",
       "      <td>0.05354</td>\n",
       "    </tr>\n",
       "    <tr>\n",
       "      <th>4</th>\n",
       "      <td>2017-01-06</td>\n",
       "      <td>8.669160</td>\n",
       "      <td>0.1375</td>\n",
       "      <td>3.2051</td>\n",
       "      <td>0.05354</td>\n",
       "    </tr>\n",
       "  </tbody>\n",
       "</table>\n",
       "</div>"
      ],
      "text/plain": [
       "         Date     BBAS3   SELIC  Cambio     IPCA\n",
       "0  2017-01-02  8.264061  0.1375  3.2723  0.05354\n",
       "1  2017-01-03  8.642155  0.1375  3.2626  0.05354\n",
       "2  2017-01-04  8.597146  0.1375  3.2327  0.05354\n",
       "3  2017-01-05  8.576143  0.1375  3.2123  0.05354\n",
       "4  2017-01-06  8.669160  0.1375  3.2051  0.05354"
      ]
     },
     "execution_count": 2,
     "metadata": {},
     "output_type": "execute_result"
    }
   ],
   "source": [
    "df = pd.read_csv(\"data/bbas3_info.csv\")\n",
    "df.head()"
   ]
  },
  {
   "cell_type": "code",
   "execution_count": 3,
   "id": "239d84f2",
   "metadata": {},
   "outputs": [],
   "source": [
    "df[\"Date\"] = pd.to_datetime(df[\"Date\"])"
   ]
  },
  {
   "cell_type": "code",
   "execution_count": 4,
   "id": "cadb2cce",
   "metadata": {},
   "outputs": [],
   "source": [
    "df.index = df[\"Date\"]"
   ]
  },
  {
   "cell_type": "code",
   "execution_count": 5,
   "id": "829b7614",
   "metadata": {},
   "outputs": [],
   "source": [
    "df[\"BBAS3 Ontem\"] = df['BBAS3'].shift(1)"
   ]
  },
  {
   "cell_type": "code",
   "execution_count": 6,
   "id": "f672d156",
   "metadata": {},
   "outputs": [
    {
     "data": {
      "application/vnd.microsoft.datawrangler.viewer.v0+json": {
       "columns": [
        {
         "name": "Date",
         "rawType": "datetime64[ns]",
         "type": "datetime"
        },
        {
         "name": "Date",
         "rawType": "datetime64[ns]",
         "type": "datetime"
        },
        {
         "name": "BBAS3",
         "rawType": "float64",
         "type": "float"
        },
        {
         "name": "SELIC",
         "rawType": "float64",
         "type": "float"
        },
        {
         "name": "Cambio",
         "rawType": "float64",
         "type": "float"
        },
        {
         "name": "IPCA",
         "rawType": "float64",
         "type": "float"
        },
        {
         "name": "BBAS3 Ontem",
         "rawType": "float64",
         "type": "float"
        }
       ],
       "ref": "3cc10c16-342a-4606-83e0-015956aa5503",
       "rows": [
        [
         "2017-01-02 00:00:00",
         "2017-01-02 00:00:00",
         "8.264060974121094",
         "0.1375",
         "3.2723",
         "0.0535395444201696",
         null
        ],
        [
         "2017-01-03 00:00:00",
         "2017-01-03 00:00:00",
         "8.642154693603516",
         "0.1375",
         "3.2626",
         "0.0535395444201696",
         "8.264060974121094"
        ],
        [
         "2017-01-04 00:00:00",
         "2017-01-04 00:00:00",
         "8.597146034240723",
         "0.1375",
         "3.2327",
         "0.0535395444201696",
         "8.642154693603516"
        ],
        [
         "2017-01-05 00:00:00",
         "2017-01-05 00:00:00",
         "8.576143264770508",
         "0.1375",
         "3.2123",
         "0.0535395444201696",
         "8.597146034240723"
        ],
        [
         "2017-01-06 00:00:00",
         "2017-01-06 00:00:00",
         "8.669159889221191",
         "0.1375",
         "3.2051",
         "0.0535395444201696",
         "8.576143264770508"
        ]
       ],
       "shape": {
        "columns": 6,
        "rows": 5
       }
      },
      "text/html": [
       "<div>\n",
       "<style scoped>\n",
       "    .dataframe tbody tr th:only-of-type {\n",
       "        vertical-align: middle;\n",
       "    }\n",
       "\n",
       "    .dataframe tbody tr th {\n",
       "        vertical-align: top;\n",
       "    }\n",
       "\n",
       "    .dataframe thead th {\n",
       "        text-align: right;\n",
       "    }\n",
       "</style>\n",
       "<table border=\"1\" class=\"dataframe\">\n",
       "  <thead>\n",
       "    <tr style=\"text-align: right;\">\n",
       "      <th></th>\n",
       "      <th>Date</th>\n",
       "      <th>BBAS3</th>\n",
       "      <th>SELIC</th>\n",
       "      <th>Cambio</th>\n",
       "      <th>IPCA</th>\n",
       "      <th>BBAS3 Ontem</th>\n",
       "    </tr>\n",
       "    <tr>\n",
       "      <th>Date</th>\n",
       "      <th></th>\n",
       "      <th></th>\n",
       "      <th></th>\n",
       "      <th></th>\n",
       "      <th></th>\n",
       "      <th></th>\n",
       "    </tr>\n",
       "  </thead>\n",
       "  <tbody>\n",
       "    <tr>\n",
       "      <th>2017-01-02</th>\n",
       "      <td>2017-01-02</td>\n",
       "      <td>8.264061</td>\n",
       "      <td>0.1375</td>\n",
       "      <td>3.2723</td>\n",
       "      <td>0.05354</td>\n",
       "      <td>NaN</td>\n",
       "    </tr>\n",
       "    <tr>\n",
       "      <th>2017-01-03</th>\n",
       "      <td>2017-01-03</td>\n",
       "      <td>8.642155</td>\n",
       "      <td>0.1375</td>\n",
       "      <td>3.2626</td>\n",
       "      <td>0.05354</td>\n",
       "      <td>8.264061</td>\n",
       "    </tr>\n",
       "    <tr>\n",
       "      <th>2017-01-04</th>\n",
       "      <td>2017-01-04</td>\n",
       "      <td>8.597146</td>\n",
       "      <td>0.1375</td>\n",
       "      <td>3.2327</td>\n",
       "      <td>0.05354</td>\n",
       "      <td>8.642155</td>\n",
       "    </tr>\n",
       "    <tr>\n",
       "      <th>2017-01-05</th>\n",
       "      <td>2017-01-05</td>\n",
       "      <td>8.576143</td>\n",
       "      <td>0.1375</td>\n",
       "      <td>3.2123</td>\n",
       "      <td>0.05354</td>\n",
       "      <td>8.597146</td>\n",
       "    </tr>\n",
       "    <tr>\n",
       "      <th>2017-01-06</th>\n",
       "      <td>2017-01-06</td>\n",
       "      <td>8.669160</td>\n",
       "      <td>0.1375</td>\n",
       "      <td>3.2051</td>\n",
       "      <td>0.05354</td>\n",
       "      <td>8.576143</td>\n",
       "    </tr>\n",
       "  </tbody>\n",
       "</table>\n",
       "</div>"
      ],
      "text/plain": [
       "                 Date     BBAS3   SELIC  Cambio     IPCA  BBAS3 Ontem\n",
       "Date                                                                 \n",
       "2017-01-02 2017-01-02  8.264061  0.1375  3.2723  0.05354          NaN\n",
       "2017-01-03 2017-01-03  8.642155  0.1375  3.2626  0.05354     8.264061\n",
       "2017-01-04 2017-01-04  8.597146  0.1375  3.2327  0.05354     8.642155\n",
       "2017-01-05 2017-01-05  8.576143  0.1375  3.2123  0.05354     8.597146\n",
       "2017-01-06 2017-01-06  8.669160  0.1375  3.2051  0.05354     8.576143"
      ]
     },
     "execution_count": 6,
     "metadata": {},
     "output_type": "execute_result"
    }
   ],
   "source": [
    "df.head()"
   ]
  },
  {
   "cell_type": "code",
   "execution_count": 7,
   "id": "44919a67",
   "metadata": {},
   "outputs": [],
   "source": [
    "df.dropna(inplace=True)"
   ]
  },
  {
   "cell_type": "code",
   "execution_count": 8,
   "id": "14314563",
   "metadata": {},
   "outputs": [
    {
     "data": {
      "text/plain": [
       "(1985, 6)"
      ]
     },
     "execution_count": 8,
     "metadata": {},
     "output_type": "execute_result"
    }
   ],
   "source": [
    "df.shape"
   ]
  },
  {
   "cell_type": "code",
   "execution_count": 24,
   "id": "fe4310db",
   "metadata": {},
   "outputs": [],
   "source": [
    "df_train, df_test = custom_train_test(df)"
   ]
  },
  {
   "cell_type": "code",
   "execution_count": 21,
   "id": "c66cbb96",
   "metadata": {},
   "outputs": [],
   "source": [
    "scaler = MinMaxScaler()\n",
    "y = scaler.fit_transform(df[\"BBAS3\"].values.reshape(-1, 1))\n",
    "X = scaler.fit_transform(df[\"BBAS3 Ontem\"].values.reshape(-1, 1))"
   ]
  },
  {
   "cell_type": "code",
   "execution_count": 26,
   "id": "c791a9f4",
   "metadata": {},
   "outputs": [],
   "source": [
    "cutoff = len(df_train)\n",
    "X_train, X_test = X[:cutoff], X[cutoff:]\n",
    "y_train, y_test = y[:cutoff], y[cutoff:]"
   ]
  },
  {
   "cell_type": "code",
   "execution_count": 34,
   "id": "98354140",
   "metadata": {},
   "outputs": [
    {
     "name": "stdout",
     "output_type": "stream",
     "text": [
      "Epoch 1/50\n"
     ]
    },
    {
     "name": "stderr",
     "output_type": "stream",
     "text": [
      "c:\\Users\\felip\\Felipe\\Projetos\\TCC\\venv\\Lib\\site-packages\\keras\\src\\layers\\rnn\\rnn.py:199: UserWarning: Do not pass an `input_shape`/`input_dim` argument to a layer. When using Sequential models, prefer using an `Input(shape)` object as the first layer in the model instead.\n",
      "  super().__init__(**kwargs)\n"
     ]
    },
    {
     "name": "stdout",
     "output_type": "stream",
     "text": [
      "\u001b[1m59/59\u001b[0m \u001b[32m━━━━━━━━━━━━━━━━━━━━\u001b[0m\u001b[37m\u001b[0m \u001b[1m2s\u001b[0m 6ms/step - loss: 0.1249 - val_loss: 0.2485\n",
      "Epoch 2/50\n",
      "\u001b[1m59/59\u001b[0m \u001b[32m━━━━━━━━━━━━━━━━━━━━\u001b[0m\u001b[37m\u001b[0m \u001b[1m0s\u001b[0m 2ms/step - loss: 0.0303 - val_loss: 0.0860\n",
      "Epoch 3/50\n",
      "\u001b[1m59/59\u001b[0m \u001b[32m━━━━━━━━━━━━━━━━━━━━\u001b[0m\u001b[37m\u001b[0m \u001b[1m0s\u001b[0m 2ms/step - loss: 0.0176 - val_loss: 0.0509\n",
      "Epoch 4/50\n",
      "\u001b[1m59/59\u001b[0m \u001b[32m━━━━━━━━━━━━━━━━━━━━\u001b[0m\u001b[37m\u001b[0m \u001b[1m0s\u001b[0m 3ms/step - loss: 0.0115 - val_loss: 0.0236\n",
      "Epoch 5/50\n",
      "\u001b[1m59/59\u001b[0m \u001b[32m━━━━━━━━━━━━━━━━━━━━\u001b[0m\u001b[37m\u001b[0m \u001b[1m0s\u001b[0m 2ms/step - loss: 0.0052 - val_loss: 0.0055\n",
      "Epoch 6/50\n",
      "\u001b[1m59/59\u001b[0m \u001b[32m━━━━━━━━━━━━━━━━━━━━\u001b[0m\u001b[37m\u001b[0m \u001b[1m0s\u001b[0m 3ms/step - loss: 0.0017 - val_loss: 9.0684e-04\n",
      "Epoch 7/50\n",
      "\u001b[1m59/59\u001b[0m \u001b[32m━━━━━━━━━━━━━━━━━━━━\u001b[0m\u001b[37m\u001b[0m \u001b[1m0s\u001b[0m 2ms/step - loss: 5.3474e-04 - val_loss: 2.5041e-04\n",
      "Epoch 8/50\n",
      "\u001b[1m59/59\u001b[0m \u001b[32m━━━━━━━━━━━━━━━━━━━━\u001b[0m\u001b[37m\u001b[0m \u001b[1m0s\u001b[0m 2ms/step - loss: 3.2622e-04 - val_loss: 4.9336e-04\n",
      "Epoch 9/50\n",
      "\u001b[1m59/59\u001b[0m \u001b[32m━━━━━━━━━━━━━━━━━━━━\u001b[0m\u001b[37m\u001b[0m \u001b[1m0s\u001b[0m 2ms/step - loss: 3.2483e-04 - val_loss: 4.4044e-04\n",
      "Epoch 10/50\n",
      "\u001b[1m59/59\u001b[0m \u001b[32m━━━━━━━━━━━━━━━━━━━━\u001b[0m\u001b[37m\u001b[0m \u001b[1m0s\u001b[0m 2ms/step - loss: 2.9550e-04 - val_loss: 4.9004e-04\n",
      "Epoch 11/50\n",
      "\u001b[1m59/59\u001b[0m \u001b[32m━━━━━━━━━━━━━━━━━━━━\u001b[0m\u001b[37m\u001b[0m \u001b[1m0s\u001b[0m 3ms/step - loss: 2.5837e-04 - val_loss: 4.3831e-04\n",
      "Epoch 12/50\n",
      "\u001b[1m59/59\u001b[0m \u001b[32m━━━━━━━━━━━━━━━━━━━━\u001b[0m\u001b[37m\u001b[0m \u001b[1m0s\u001b[0m 2ms/step - loss: 3.3460e-04 - val_loss: 4.7785e-04\n",
      "Epoch 13/50\n",
      "\u001b[1m59/59\u001b[0m \u001b[32m━━━━━━━━━━━━━━━━━━━━\u001b[0m\u001b[37m\u001b[0m \u001b[1m0s\u001b[0m 3ms/step - loss: 2.8077e-04 - val_loss: 5.3946e-04\n",
      "Epoch 14/50\n",
      "\u001b[1m59/59\u001b[0m \u001b[32m━━━━━━━━━━━━━━━━━━━━\u001b[0m\u001b[37m\u001b[0m \u001b[1m0s\u001b[0m 2ms/step - loss: 2.7168e-04 - val_loss: 4.8660e-04\n",
      "Epoch 15/50\n",
      "\u001b[1m59/59\u001b[0m \u001b[32m━━━━━━━━━━━━━━━━━━━━\u001b[0m\u001b[37m\u001b[0m \u001b[1m0s\u001b[0m 2ms/step - loss: 2.8779e-04 - val_loss: 4.1235e-04\n",
      "Epoch 16/50\n",
      "\u001b[1m59/59\u001b[0m \u001b[32m━━━━━━━━━━━━━━━━━━━━\u001b[0m\u001b[37m\u001b[0m \u001b[1m0s\u001b[0m 2ms/step - loss: 2.9208e-04 - val_loss: 5.0001e-04\n",
      "Epoch 17/50\n",
      "\u001b[1m59/59\u001b[0m \u001b[32m━━━━━━━━━━━━━━━━━━━━\u001b[0m\u001b[37m\u001b[0m \u001b[1m0s\u001b[0m 2ms/step - loss: 2.9638e-04 - val_loss: 4.7047e-04\n",
      "Epoch 18/50\n",
      "\u001b[1m59/59\u001b[0m \u001b[32m━━━━━━━━━━━━━━━━━━━━\u001b[0m\u001b[37m\u001b[0m \u001b[1m0s\u001b[0m 2ms/step - loss: 2.7857e-04 - val_loss: 4.4931e-04\n",
      "Epoch 19/50\n",
      "\u001b[1m59/59\u001b[0m \u001b[32m━━━━━━━━━━━━━━━━━━━━\u001b[0m\u001b[37m\u001b[0m \u001b[1m0s\u001b[0m 3ms/step - loss: 2.8278e-04 - val_loss: 3.7243e-04\n",
      "Epoch 20/50\n",
      "\u001b[1m59/59\u001b[0m \u001b[32m━━━━━━━━━━━━━━━━━━━━\u001b[0m\u001b[37m\u001b[0m \u001b[1m0s\u001b[0m 2ms/step - loss: 2.8628e-04 - val_loss: 3.4200e-04\n",
      "Epoch 21/50\n",
      "\u001b[1m59/59\u001b[0m \u001b[32m━━━━━━━━━━━━━━━━━━━━\u001b[0m\u001b[37m\u001b[0m \u001b[1m0s\u001b[0m 2ms/step - loss: 2.7917e-04 - val_loss: 3.3859e-04\n",
      "Epoch 22/50\n",
      "\u001b[1m59/59\u001b[0m \u001b[32m━━━━━━━━━━━━━━━━━━━━\u001b[0m\u001b[37m\u001b[0m \u001b[1m0s\u001b[0m 3ms/step - loss: 2.6540e-04 - val_loss: 3.7885e-04\n",
      "Epoch 23/50\n",
      "\u001b[1m59/59\u001b[0m \u001b[32m━━━━━━━━━━━━━━━━━━━━\u001b[0m\u001b[37m\u001b[0m \u001b[1m0s\u001b[0m 2ms/step - loss: 2.6654e-04 - val_loss: 3.7571e-04\n",
      "Epoch 24/50\n",
      "\u001b[1m59/59\u001b[0m \u001b[32m━━━━━━━━━━━━━━━━━━━━\u001b[0m\u001b[37m\u001b[0m \u001b[1m0s\u001b[0m 2ms/step - loss: 2.7294e-04 - val_loss: 3.3175e-04\n",
      "Epoch 25/50\n",
      "\u001b[1m59/59\u001b[0m \u001b[32m━━━━━━━━━━━━━━━━━━━━\u001b[0m\u001b[37m\u001b[0m \u001b[1m0s\u001b[0m 2ms/step - loss: 2.6577e-04 - val_loss: 2.8846e-04\n",
      "Epoch 26/50\n",
      "\u001b[1m59/59\u001b[0m \u001b[32m━━━━━━━━━━━━━━━━━━━━\u001b[0m\u001b[37m\u001b[0m \u001b[1m0s\u001b[0m 2ms/step - loss: 2.7729e-04 - val_loss: 3.5246e-04\n",
      "Epoch 27/50\n",
      "\u001b[1m59/59\u001b[0m \u001b[32m━━━━━━━━━━━━━━━━━━━━\u001b[0m\u001b[37m\u001b[0m \u001b[1m0s\u001b[0m 2ms/step - loss: 2.5817e-04 - val_loss: 2.8574e-04\n",
      "Epoch 28/50\n",
      "\u001b[1m59/59\u001b[0m \u001b[32m━━━━━━━━━━━━━━━━━━━━\u001b[0m\u001b[37m\u001b[0m \u001b[1m0s\u001b[0m 3ms/step - loss: 2.6341e-04 - val_loss: 3.6687e-04\n",
      "Epoch 29/50\n",
      "\u001b[1m59/59\u001b[0m \u001b[32m━━━━━━━━━━━━━━━━━━━━\u001b[0m\u001b[37m\u001b[0m \u001b[1m0s\u001b[0m 3ms/step - loss: 2.4259e-04 - val_loss: 3.4520e-04\n",
      "Epoch 30/50\n",
      "\u001b[1m59/59\u001b[0m \u001b[32m━━━━━━━━━━━━━━━━━━━━\u001b[0m\u001b[37m\u001b[0m \u001b[1m0s\u001b[0m 2ms/step - loss: 2.4001e-04 - val_loss: 2.6580e-04\n",
      "Epoch 31/50\n",
      "\u001b[1m59/59\u001b[0m \u001b[32m━━━━━━━━━━━━━━━━━━━━\u001b[0m\u001b[37m\u001b[0m \u001b[1m0s\u001b[0m 2ms/step - loss: 2.3635e-04 - val_loss: 2.5889e-04\n",
      "Epoch 32/50\n",
      "\u001b[1m59/59\u001b[0m \u001b[32m━━━━━━━━━━━━━━━━━━━━\u001b[0m\u001b[37m\u001b[0m \u001b[1m0s\u001b[0m 2ms/step - loss: 2.6918e-04 - val_loss: 2.6896e-04\n",
      "Epoch 33/50\n",
      "\u001b[1m59/59\u001b[0m \u001b[32m━━━━━━━━━━━━━━━━━━━━\u001b[0m\u001b[37m\u001b[0m \u001b[1m0s\u001b[0m 2ms/step - loss: 2.5485e-04 - val_loss: 2.4157e-04\n",
      "Epoch 34/50\n",
      "\u001b[1m59/59\u001b[0m \u001b[32m━━━━━━━━━━━━━━━━━━━━\u001b[0m\u001b[37m\u001b[0m \u001b[1m0s\u001b[0m 2ms/step - loss: 2.5281e-04 - val_loss: 3.1080e-04\n",
      "Epoch 35/50\n",
      "\u001b[1m59/59\u001b[0m \u001b[32m━━━━━━━━━━━━━━━━━━━━\u001b[0m\u001b[37m\u001b[0m \u001b[1m0s\u001b[0m 2ms/step - loss: 2.5273e-04 - val_loss: 2.5065e-04\n",
      "Epoch 36/50\n",
      "\u001b[1m59/59\u001b[0m \u001b[32m━━━━━━━━━━━━━━━━━━━━\u001b[0m\u001b[37m\u001b[0m \u001b[1m0s\u001b[0m 2ms/step - loss: 2.3368e-04 - val_loss: 2.3031e-04\n",
      "Epoch 37/50\n",
      "\u001b[1m59/59\u001b[0m \u001b[32m━━━━━━━━━━━━━━━━━━━━\u001b[0m\u001b[37m\u001b[0m \u001b[1m0s\u001b[0m 2ms/step - loss: 2.6059e-04 - val_loss: 2.1439e-04\n",
      "Epoch 38/50\n",
      "\u001b[1m59/59\u001b[0m \u001b[32m━━━━━━━━━━━━━━━━━━━━\u001b[0m\u001b[37m\u001b[0m \u001b[1m0s\u001b[0m 3ms/step - loss: 2.3164e-04 - val_loss: 2.6127e-04\n",
      "Epoch 39/50\n",
      "\u001b[1m59/59\u001b[0m \u001b[32m━━━━━━━━━━━━━━━━━━━━\u001b[0m\u001b[37m\u001b[0m \u001b[1m0s\u001b[0m 2ms/step - loss: 2.5865e-04 - val_loss: 2.0594e-04\n",
      "Epoch 40/50\n",
      "\u001b[1m59/59\u001b[0m \u001b[32m━━━━━━━━━━━━━━━━━━━━\u001b[0m\u001b[37m\u001b[0m \u001b[1m0s\u001b[0m 2ms/step - loss: 2.6518e-04 - val_loss: 2.1102e-04\n",
      "Epoch 41/50\n",
      "\u001b[1m59/59\u001b[0m \u001b[32m━━━━━━━━━━━━━━━━━━━━\u001b[0m\u001b[37m\u001b[0m \u001b[1m0s\u001b[0m 2ms/step - loss: 2.4116e-04 - val_loss: 1.9689e-04\n",
      "Epoch 42/50\n",
      "\u001b[1m59/59\u001b[0m \u001b[32m━━━━━━━━━━━━━━━━━━━━\u001b[0m\u001b[37m\u001b[0m \u001b[1m0s\u001b[0m 2ms/step - loss: 2.6053e-04 - val_loss: 2.1549e-04\n",
      "Epoch 43/50\n",
      "\u001b[1m59/59\u001b[0m \u001b[32m━━━━━━━━━━━━━━━━━━━━\u001b[0m\u001b[37m\u001b[0m \u001b[1m0s\u001b[0m 2ms/step - loss: 2.2284e-04 - val_loss: 2.0749e-04\n",
      "Epoch 44/50\n",
      "\u001b[1m59/59\u001b[0m \u001b[32m━━━━━━━━━━━━━━━━━━━━\u001b[0m\u001b[37m\u001b[0m \u001b[1m0s\u001b[0m 2ms/step - loss: 2.5970e-04 - val_loss: 1.9624e-04\n",
      "Epoch 45/50\n",
      "\u001b[1m59/59\u001b[0m \u001b[32m━━━━━━━━━━━━━━━━━━━━\u001b[0m\u001b[37m\u001b[0m \u001b[1m0s\u001b[0m 3ms/step - loss: 2.3340e-04 - val_loss: 2.0763e-04\n",
      "Epoch 46/50\n",
      "\u001b[1m59/59\u001b[0m \u001b[32m━━━━━━━━━━━━━━━━━━━━\u001b[0m\u001b[37m\u001b[0m \u001b[1m0s\u001b[0m 2ms/step - loss: 2.4845e-04 - val_loss: 2.1699e-04\n",
      "Epoch 47/50\n",
      "\u001b[1m59/59\u001b[0m \u001b[32m━━━━━━━━━━━━━━━━━━━━\u001b[0m\u001b[37m\u001b[0m \u001b[1m0s\u001b[0m 2ms/step - loss: 2.4208e-04 - val_loss: 1.9013e-04\n",
      "Epoch 48/50\n",
      "\u001b[1m59/59\u001b[0m \u001b[32m━━━━━━━━━━━━━━━━━━━━\u001b[0m\u001b[37m\u001b[0m \u001b[1m0s\u001b[0m 3ms/step - loss: 2.4442e-04 - val_loss: 1.9019e-04\n",
      "Epoch 49/50\n",
      "\u001b[1m59/59\u001b[0m \u001b[32m━━━━━━━━━━━━━━━━━━━━\u001b[0m\u001b[37m\u001b[0m \u001b[1m0s\u001b[0m 3ms/step - loss: 2.5875e-04 - val_loss: 2.0470e-04\n",
      "Epoch 50/50\n",
      "\u001b[1m59/59\u001b[0m \u001b[32m━━━━━━━━━━━━━━━━━━━━\u001b[0m\u001b[37m\u001b[0m \u001b[1m0s\u001b[0m 2ms/step - loss: 2.2748e-04 - val_loss: 1.8747e-04\n"
     ]
    }
   ],
   "source": [
    "from tensorflow.keras.models import Sequential\n",
    "from tensorflow.keras.layers import LSTM, Dense\n",
    "\n",
    "# 1. Definir modelo\n",
    "model = Sequential([\n",
    "    LSTM(50, activation=\"tanh\", input_shape=(10, 1)),  # 50 neurônios, input = (timesteps=1, features=1)\n",
    "    # Dense(units=10, activation = 'linear'),\n",
    "    Dense(1)  # Saída (preço previsto)\n",
    "])\n",
    "\n",
    "# 2. Compilar\n",
    "model.compile(optimizer=\"adam\", loss=\"mse\")  # Otimizador Adam, erro quadrático médio\n",
    "\n",
    "# 3. Treinar\n",
    "history = model.fit(\n",
    "    X_train, y_train,\n",
    "    epochs=50,\n",
    "    batch_size=32,\n",
    "    validation_data=(X_test, y_test)\n",
    ")"
   ]
  },
  {
   "cell_type": "code",
   "execution_count": 36,
   "id": "485efc6c",
   "metadata": {},
   "outputs": [
    {
     "data": {
      "text/html": [
       "<pre style=\"white-space:pre;overflow-x:auto;line-height:normal;font-family:Menlo,'DejaVu Sans Mono',consolas,'Courier New',monospace\"><span style=\"font-weight: bold\">Model: \"sequential_2\"</span>\n",
       "</pre>\n"
      ],
      "text/plain": [
       "\u001b[1mModel: \"sequential_2\"\u001b[0m\n"
      ]
     },
     "metadata": {},
     "output_type": "display_data"
    },
    {
     "data": {
      "text/html": [
       "<pre style=\"white-space:pre;overflow-x:auto;line-height:normal;font-family:Menlo,'DejaVu Sans Mono',consolas,'Courier New',monospace\">┏━━━━━━━━━━━━━━━━━━━━━━━━━━━━━━━━━┳━━━━━━━━━━━━━━━━━━━━━━━━┳━━━━━━━━━━━━━━━┓\n",
       "┃<span style=\"font-weight: bold\"> Layer (type)                    </span>┃<span style=\"font-weight: bold\"> Output Shape           </span>┃<span style=\"font-weight: bold\">       Param # </span>┃\n",
       "┡━━━━━━━━━━━━━━━━━━━━━━━━━━━━━━━━━╇━━━━━━━━━━━━━━━━━━━━━━━━╇━━━━━━━━━━━━━━━┩\n",
       "│ lstm_2 (<span style=\"color: #0087ff; text-decoration-color: #0087ff\">LSTM</span>)                   │ (<span style=\"color: #00d7ff; text-decoration-color: #00d7ff\">None</span>, <span style=\"color: #00af00; text-decoration-color: #00af00\">50</span>)             │        <span style=\"color: #00af00; text-decoration-color: #00af00\">10,400</span> │\n",
       "├─────────────────────────────────┼────────────────────────┼───────────────┤\n",
       "│ dense_2 (<span style=\"color: #0087ff; text-decoration-color: #0087ff\">Dense</span>)                 │ (<span style=\"color: #00d7ff; text-decoration-color: #00d7ff\">None</span>, <span style=\"color: #00af00; text-decoration-color: #00af00\">1</span>)              │            <span style=\"color: #00af00; text-decoration-color: #00af00\">51</span> │\n",
       "└─────────────────────────────────┴────────────────────────┴───────────────┘\n",
       "</pre>\n"
      ],
      "text/plain": [
       "┏━━━━━━━━━━━━━━━━━━━━━━━━━━━━━━━━━┳━━━━━━━━━━━━━━━━━━━━━━━━┳━━━━━━━━━━━━━━━┓\n",
       "┃\u001b[1m \u001b[0m\u001b[1mLayer (type)                   \u001b[0m\u001b[1m \u001b[0m┃\u001b[1m \u001b[0m\u001b[1mOutput Shape          \u001b[0m\u001b[1m \u001b[0m┃\u001b[1m \u001b[0m\u001b[1m      Param #\u001b[0m\u001b[1m \u001b[0m┃\n",
       "┡━━━━━━━━━━━━━━━━━━━━━━━━━━━━━━━━━╇━━━━━━━━━━━━━━━━━━━━━━━━╇━━━━━━━━━━━━━━━┩\n",
       "│ lstm_2 (\u001b[38;5;33mLSTM\u001b[0m)                   │ (\u001b[38;5;45mNone\u001b[0m, \u001b[38;5;34m50\u001b[0m)             │        \u001b[38;5;34m10,400\u001b[0m │\n",
       "├─────────────────────────────────┼────────────────────────┼───────────────┤\n",
       "│ dense_2 (\u001b[38;5;33mDense\u001b[0m)                 │ (\u001b[38;5;45mNone\u001b[0m, \u001b[38;5;34m1\u001b[0m)              │            \u001b[38;5;34m51\u001b[0m │\n",
       "└─────────────────────────────────┴────────────────────────┴───────────────┘\n"
      ]
     },
     "metadata": {},
     "output_type": "display_data"
    },
    {
     "data": {
      "text/html": [
       "<pre style=\"white-space:pre;overflow-x:auto;line-height:normal;font-family:Menlo,'DejaVu Sans Mono',consolas,'Courier New',monospace\"><span style=\"font-weight: bold\"> Total params: </span><span style=\"color: #00af00; text-decoration-color: #00af00\">31,355</span> (122.48 KB)\n",
       "</pre>\n"
      ],
      "text/plain": [
       "\u001b[1m Total params: \u001b[0m\u001b[38;5;34m31,355\u001b[0m (122.48 KB)\n"
      ]
     },
     "metadata": {},
     "output_type": "display_data"
    },
    {
     "data": {
      "text/html": [
       "<pre style=\"white-space:pre;overflow-x:auto;line-height:normal;font-family:Menlo,'DejaVu Sans Mono',consolas,'Courier New',monospace\"><span style=\"font-weight: bold\"> Trainable params: </span><span style=\"color: #00af00; text-decoration-color: #00af00\">10,451</span> (40.82 KB)\n",
       "</pre>\n"
      ],
      "text/plain": [
       "\u001b[1m Trainable params: \u001b[0m\u001b[38;5;34m10,451\u001b[0m (40.82 KB)\n"
      ]
     },
     "metadata": {},
     "output_type": "display_data"
    },
    {
     "data": {
      "text/html": [
       "<pre style=\"white-space:pre;overflow-x:auto;line-height:normal;font-family:Menlo,'DejaVu Sans Mono',consolas,'Courier New',monospace\"><span style=\"font-weight: bold\"> Non-trainable params: </span><span style=\"color: #00af00; text-decoration-color: #00af00\">0</span> (0.00 B)\n",
       "</pre>\n"
      ],
      "text/plain": [
       "\u001b[1m Non-trainable params: \u001b[0m\u001b[38;5;34m0\u001b[0m (0.00 B)\n"
      ]
     },
     "metadata": {},
     "output_type": "display_data"
    },
    {
     "data": {
      "text/html": [
       "<pre style=\"white-space:pre;overflow-x:auto;line-height:normal;font-family:Menlo,'DejaVu Sans Mono',consolas,'Courier New',monospace\"><span style=\"font-weight: bold\"> Optimizer params: </span><span style=\"color: #00af00; text-decoration-color: #00af00\">20,904</span> (81.66 KB)\n",
       "</pre>\n"
      ],
      "text/plain": [
       "\u001b[1m Optimizer params: \u001b[0m\u001b[38;5;34m20,904\u001b[0m (81.66 KB)\n"
      ]
     },
     "metadata": {},
     "output_type": "display_data"
    }
   ],
   "source": [
    "model.summary()"
   ]
  },
  {
   "cell_type": "code",
   "execution_count": 37,
   "id": "4b68c9c4",
   "metadata": {},
   "outputs": [
    {
     "name": "stdout",
     "output_type": "stream",
     "text": [
      "\u001b[1m4/4\u001b[0m \u001b[32m━━━━━━━━━━━━━━━━━━━━\u001b[0m\u001b[37m\u001b[0m \u001b[1m0s\u001b[0m 49ms/step\n",
      "MAPE: 0.008639767628326306\n",
      "RMSE: 0.27791445125386494\n",
      "R²: 0.9326228642985708\n"
     ]
    },
    {
     "data": {
      "image/png": "[encoded data removed]",
      "text/plain": [
       "<Figure size 1800x600 with 1 Axes>"
      ]
     },
     "metadata": {},
     "output_type": "display_data"
    }
   ],
   "source": [
    "# 1. Prever no conjunto de teste\n",
    "y_pred = model.predict(X_test)\n",
    "\n",
    "# 2. Desnormalizar (voltar para escala original)\n",
    "y_test_real = scaler.inverse_transform(y_test)\n",
    "y_pred_real = scaler.inverse_transform(y_pred)\n",
    "\n",
    "# 3. Calcular métricas\n",
    "from sklearn.metrics import root_mean_squared_error, mean_absolute_percentage_error\n",
    "\n",
    "mape = mean_absolute_percentage_error(y_test_real, y_pred_real)\n",
    "rmse = root_mean_squared_error(y_test_real, y_pred_real)\n",
    "r2 = r2_score(y_test_real, y_pred_real)\n",
    "\n",
    "print(f\"MAPE: {mape}\")\n",
    "print(f\"RMSE: {rmse}\")\n",
    "print(f\"R²: {r2}\")\n",
    "\n",
    "# 4. Plotar resultados\n",
    "\n",
    "plt.plot(df_test.index, y_test_real, label=\"Real\")\n",
    "plt.plot(df_test.index, y_pred_real, label=\"Previsto\", linestyle=\"--\")\n",
    "plt.legend()\n",
    "plt.title(f'LSTM Predict MAPE: {mape * 100:.2f}%')\n",
    "plt.show()"
   ]
  },
  {
   "cell_type": "code",
   "execution_count": 38,
   "id": "f2a98c1f",
   "metadata": {},
   "outputs": [],
   "source": [
    "\"\"\"train_results = pd.DataFrame({\n",
    "    \"Real\": y_train_real,\n",
    "    \"Previsto\": y_pred_train_real\n",
    "})\n",
    "\"\"\"\n",
    "test_results = pd.DataFrame({\n",
    "    \"Real\": y_test_real.reshape(-1),\n",
    "    \"Previsto\": y_pred_real.reshape(-1)\n",
    "})\n",
    "\n",
    "#all_results = pd.concat(train_results, test_results, axis=0)"
   ]
  },
  {
   "cell_type": "code",
   "execution_count": 39,
   "id": "6b441531",
   "metadata": {},
   "outputs": [
    {
     "data": {
      "application/vnd.microsoft.datawrangler.viewer.v0+json": {
       "columns": [
        {
         "name": "index",
         "rawType": "int64",
         "type": "integer"
        },
        {
         "name": "Real",
         "rawType": "float64",
         "type": "float"
        },
        {
         "name": "Previsto",
         "rawType": "float32",
         "type": "float"
        }
       ],
       "ref": "b6e3784c-3c9a-4958-b287-7efc35b63fb3",
       "rows": [
        [
         "0",
         "24.84087371826172",
         "25.204966"
        ],
        [
         "1",
         "24.925687789916992",
         "24.873613"
        ],
        [
         "2",
         "25.170703887939457",
         "24.958834"
        ],
        [
         "3",
         "25.302633285522464",
         "25.204966"
        ],
        [
         "4",
         "25.189550399780277",
         "25.33746"
        ],
        [
         "5",
         "24.774908065795895",
         "25.223896"
        ],
        [
         "6",
         "24.690093994140625",
         "24.807325"
        ],
        [
         "7",
         "25.07646560668945",
         "24.722088"
        ],
        [
         "8",
         "24.953956604003903",
         "25.110312"
        ],
        [
         "9",
         "25.28378677368164",
         "24.987236"
        ],
        [
         "10",
         "25.396873474121094",
         "25.318537"
        ],
        [
         "11",
         "25.481685638427727",
         "25.43209"
        ],
        [
         "12",
         "25.736124038696293",
         "25.51724"
        ],
        [
         "13",
         "25.62304306030273",
         "25.77262"
        ],
        [
         "14",
         "25.54765129089355",
         "25.659132"
        ],
        [
         "15",
         "25.5759220123291",
         "25.583458"
        ],
        [
         "16",
         "25.425144195556644",
         "25.611835"
        ],
        [
         "17",
         "25.321483612060547",
         "25.460472"
        ],
        [
         "18",
         "25.34032821655273",
         "25.35639"
        ],
        [
         "19",
         "25.55707550048828",
         "25.375313"
        ],
        [
         "20",
         "25.594770431518555",
         "25.592918"
        ],
        [
         "21",
         "25.396873474121094",
         "25.630753"
        ],
        [
         "22",
         "25.019922256469727",
         "25.43209"
        ],
        [
         "23",
         "24.850297927856445",
         "25.053507"
        ],
        [
         "24",
         "24.65239906311035",
         "24.883083"
        ],
        [
         "25",
         "24.690093994140625",
         "24.684202"
        ],
        [
         "26",
         "25.114160537719723",
         "24.722088"
        ],
        [
         "27",
         "24.784330368041996",
         "25.148174"
        ],
        [
         "28",
         "24.6806697845459",
         "24.816793"
        ],
        [
         "29",
         "25.019922256469727",
         "24.71262"
        ],
        [
         "30",
         "25.55707550048828",
         "25.053507"
        ],
        [
         "31",
         "25.886905670166016",
         "25.592918"
        ],
        [
         "32",
         "26.32039451599121",
         "25.92391"
        ],
        [
         "33",
         "26.52771377563477",
         "26.358624"
        ],
        [
         "34",
         "26.73503875732422",
         "26.566402"
        ],
        [
         "35",
         "27.45123672485352",
         "26.774101"
        ],
        [
         "36",
         "27.57374763488769",
         "27.490862"
        ],
        [
         "37",
         "27.45123672485352",
         "27.61335"
        ],
        [
         "38",
         "26.833011627197266",
         "27.490862"
        ],
        [
         "39",
         "27.0341854095459",
         "26.872217"
        ],
        [
         "40",
         "27.139564514160163",
         "27.073622"
        ],
        [
         "41",
         "26.833011627197266",
         "27.179089"
        ],
        [
         "42",
         "26.99586677551269",
         "26.872217"
        ],
        [
         "43",
         "27.1108226776123",
         "27.035267"
        ],
        [
         "44",
         "26.93838882446289",
         "27.150324"
        ],
        [
         "45",
         "27.22578239440918",
         "26.977728"
        ],
        [
         "46",
         "27.474857330322266",
         "27.265358"
        ],
        [
         "47",
         "27.77182960510254",
         "27.51448"
        ],
        [
         "48",
         "28.020906448364254",
         "27.811317"
        ],
        [
         "49",
         "27.561075210571293",
         "28.060106"
        ]
       ],
       "shape": {
        "columns": 2,
        "rows": 127
       }
      },
      "text/html": [
       "<div>\n",
       "<style scoped>\n",
       "    .dataframe tbody tr th:only-of-type {\n",
       "        vertical-align: middle;\n",
       "    }\n",
       "\n",
       "    .dataframe tbody tr th {\n",
       "        vertical-align: top;\n",
       "    }\n",
       "\n",
       "    .dataframe thead th {\n",
       "        text-align: right;\n",
       "    }\n",
       "</style>\n",
       "<table border=\"1\" class=\"dataframe\">\n",
       "  <thead>\n",
       "    <tr style=\"text-align: right;\">\n",
       "      <th></th>\n",
       "      <th>Real</th>\n",
       "      <th>Previsto</th>\n",
       "    </tr>\n",
       "  </thead>\n",
       "  <tbody>\n",
       "    <tr>\n",
       "      <th>0</th>\n",
       "      <td>24.840874</td>\n",
       "      <td>25.204966</td>\n",
       "    </tr>\n",
       "    <tr>\n",
       "      <th>1</th>\n",
       "      <td>24.925688</td>\n",
       "      <td>24.873613</td>\n",
       "    </tr>\n",
       "    <tr>\n",
       "      <th>2</th>\n",
       "      <td>25.170704</td>\n",
       "      <td>24.958834</td>\n",
       "    </tr>\n",
       "    <tr>\n",
       "      <th>3</th>\n",
       "      <td>25.302633</td>\n",
       "      <td>25.204966</td>\n",
       "    </tr>\n",
       "    <tr>\n",
       "      <th>4</th>\n",
       "      <td>25.189550</td>\n",
       "      <td>25.337460</td>\n",
       "    </tr>\n",
       "    <tr>\n",
       "      <th>...</th>\n",
       "      <td>...</td>\n",
       "      <td>...</td>\n",
       "    </tr>\n",
       "    <tr>\n",
       "      <th>122</th>\n",
       "      <td>23.829037</td>\n",
       "      <td>23.667122</td>\n",
       "    </tr>\n",
       "    <tr>\n",
       "      <th>123</th>\n",
       "      <td>23.670704</td>\n",
       "      <td>23.856279</td>\n",
       "    </tr>\n",
       "    <tr>\n",
       "      <th>124</th>\n",
       "      <td>23.947786</td>\n",
       "      <td>23.696993</td>\n",
       "    </tr>\n",
       "    <tr>\n",
       "      <th>125</th>\n",
       "      <td>23.858725</td>\n",
       "      <td>23.975729</td>\n",
       "    </tr>\n",
       "    <tr>\n",
       "      <th>126</th>\n",
       "      <td>23.918098</td>\n",
       "      <td>23.886141</td>\n",
       "    </tr>\n",
       "  </tbody>\n",
       "</table>\n",
       "<p>127 rows × 2 columns</p>\n",
       "</div>"
      ],
      "text/plain": [
       "          Real   Previsto\n",
       "0    24.840874  25.204966\n",
       "1    24.925688  24.873613\n",
       "2    25.170704  24.958834\n",
       "3    25.302633  25.204966\n",
       "4    25.189550  25.337460\n",
       "..         ...        ...\n",
       "122  23.829037  23.667122\n",
       "123  23.670704  23.856279\n",
       "124  23.947786  23.696993\n",
       "125  23.858725  23.975729\n",
       "126  23.918098  23.886141\n",
       "\n",
       "[127 rows x 2 columns]"
      ]
     },
     "execution_count": 39,
     "metadata": {},
     "output_type": "execute_result"
    }
   ],
   "source": [
    "test_results"
   ]
  },
  {
   "cell_type": "code",
   "execution_count": null,
   "id": "4795e42b",
   "metadata": {},
   "outputs": [],
   "source": []
  }
 ],
 "metadata": {
  "kernelspec": {
   "display_name": "venv",
   "language": "python",
   "name": "python3"
  },
  "language_info": {
   "codemirror_mode": {
    "name": "ipython",
    "version": 3
   },
   "file_extension": ".py",
   "mimetype": "text/x-python",
   "name": "python",
   "nbconvert_exporter": "python",
   "pygments_lexer": "ipython3",
   "version": "3.12.10"
  }
 },
 "nbformat": 4,
 "nbformat_minor": 5
}
