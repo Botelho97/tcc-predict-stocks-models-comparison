{
 "cells": [
  {
   "cell_type": "code",
   "execution_count": 26,
   "id": "f81b433e",
   "metadata": {},
   "outputs": [],
   "source": [
    "import pandas as pd\n",
    "import matplotlib.pyplot as plt\n",
    "import seaborn as sns\n",
    "from sklearn.tree import DecisionTreeRegressor, plot_tree\n",
    "from sklearn.metrics import root_mean_squared_error, mean_absolute_percentage_error, r2_score\n",
    "from matplotlib import rcParams\n",
    "from sklearn.preprocessing import MinMaxScaler\n",
    "import numpy as np\n",
    "\n",
    "rcParams['figure.figsize'] = 18, 6"
   ]
  },
  {
   "cell_type": "code",
   "execution_count": 27,
   "id": "6566a1f5",
   "metadata": {},
   "outputs": [
    {
     "data": {
      "application/vnd.microsoft.datawrangler.viewer.v0+json": {
       "columns": [
        {
         "name": "index",
         "rawType": "int64",
         "type": "integer"
        },
        {
         "name": "Date",
         "rawType": "object",
         "type": "string"
        },
        {
         "name": "BBAS3",
         "rawType": "float64",
         "type": "float"
        },
        {
         "name": "SELIC",
         "rawType": "float64",
         "type": "float"
        },
        {
         "name": "Cambio",
         "rawType": "float64",
         "type": "float"
        },
        {
         "name": "IPCA",
         "rawType": "float64",
         "type": "float"
        }
       ],
       "conversionMethod": "pd.DataFrame",
       "ref": "48a12344-ee1f-4e0a-9e65-19ee5ae0cbbb",
       "rows": [
        [
         "0",
         "2017-01-02",
         "8.264060974121094",
         "0.1375",
         "3.2723",
         "0.0535395444201696"
        ],
        [
         "1",
         "2017-01-03",
         "8.642154693603516",
         "0.1375",
         "3.2626",
         "0.0535395444201696"
        ],
        [
         "2",
         "2017-01-04",
         "8.597146034240723",
         "0.1375",
         "3.2327",
         "0.0535395444201696"
        ],
        [
         "3",
         "2017-01-05",
         "8.576143264770508",
         "0.1375",
         "3.2123",
         "0.0535395444201696"
        ],
        [
         "4",
         "2017-01-06",
         "8.669159889221191",
         "0.1375",
         "3.2051",
         "0.0535395444201696"
        ]
       ],
       "shape": {
        "columns": 5,
        "rows": 5
       }
      },
      "text/html": [
       "<div>\n",
       "<style scoped>\n",
       "    .dataframe tbody tr th:only-of-type {\n",
       "        vertical-align: middle;\n",
       "    }\n",
       "\n",
       "    .dataframe tbody tr th {\n",
       "        vertical-align: top;\n",
       "    }\n",
       "\n",
       "    .dataframe thead th {\n",
       "        text-align: right;\n",
       "    }\n",
       "</style>\n",
       "<table border=\"1\" class=\"dataframe\">\n",
       "  <thead>\n",
       "    <tr style=\"text-align: right;\">\n",
       "      <th></th>\n",
       "      <th>Date</th>\n",
       "      <th>BBAS3</th>\n",
       "      <th>SELIC</th>\n",
       "      <th>Cambio</th>\n",
       "      <th>IPCA</th>\n",
       "    </tr>\n",
       "  </thead>\n",
       "  <tbody>\n",
       "    <tr>\n",
       "      <th>0</th>\n",
       "      <td>2017-01-02</td>\n",
       "      <td>8.264061</td>\n",
       "      <td>0.1375</td>\n",
       "      <td>3.2723</td>\n",
       "      <td>0.05354</td>\n",
       "    </tr>\n",
       "    <tr>\n",
       "      <th>1</th>\n",
       "      <td>2017-01-03</td>\n",
       "      <td>8.642155</td>\n",
       "      <td>0.1375</td>\n",
       "      <td>3.2626</td>\n",
       "      <td>0.05354</td>\n",
       "    </tr>\n",
       "    <tr>\n",
       "      <th>2</th>\n",
       "      <td>2017-01-04</td>\n",
       "      <td>8.597146</td>\n",
       "      <td>0.1375</td>\n",
       "      <td>3.2327</td>\n",
       "      <td>0.05354</td>\n",
       "    </tr>\n",
       "    <tr>\n",
       "      <th>3</th>\n",
       "      <td>2017-01-05</td>\n",
       "      <td>8.576143</td>\n",
       "      <td>0.1375</td>\n",
       "      <td>3.2123</td>\n",
       "      <td>0.05354</td>\n",
       "    </tr>\n",
       "    <tr>\n",
       "      <th>4</th>\n",
       "      <td>2017-01-06</td>\n",
       "      <td>8.669160</td>\n",
       "      <td>0.1375</td>\n",
       "      <td>3.2051</td>\n",
       "      <td>0.05354</td>\n",
       "    </tr>\n",
       "  </tbody>\n",
       "</table>\n",
       "</div>"
      ],
      "text/plain": [
       "         Date     BBAS3   SELIC  Cambio     IPCA\n",
       "0  2017-01-02  8.264061  0.1375  3.2723  0.05354\n",
       "1  2017-01-03  8.642155  0.1375  3.2626  0.05354\n",
       "2  2017-01-04  8.597146  0.1375  3.2327  0.05354\n",
       "3  2017-01-05  8.576143  0.1375  3.2123  0.05354\n",
       "4  2017-01-06  8.669160  0.1375  3.2051  0.05354"
      ]
     },
     "execution_count": 27,
     "metadata": {},
     "output_type": "execute_result"
    }
   ],
   "source": [
    "df = pd.read_csv(\"data/bbas3_info.csv\")\n",
    "df.head()"
   ]
  },
  {
   "cell_type": "code",
   "execution_count": 28,
   "id": "239d84f2",
   "metadata": {},
   "outputs": [],
   "source": [
    "df[\"Date\"] = pd.to_datetime(df[\"Date\"])"
   ]
  },
  {
   "cell_type": "code",
   "execution_count": 29,
   "id": "cadb2cce",
   "metadata": {},
   "outputs": [],
   "source": [
    "df.index = df[\"Date\"]"
   ]
  },
  {
   "cell_type": "code",
   "execution_count": 30,
   "id": "829b7614",
   "metadata": {},
   "outputs": [],
   "source": [
    "df[\"BBAS3 Ontem\"] = df['BBAS3'].shift(1)"
   ]
  },
  {
   "cell_type": "code",
   "execution_count": 31,
   "id": "f672d156",
   "metadata": {},
   "outputs": [
    {
     "data": {
      "application/vnd.microsoft.datawrangler.viewer.v0+json": {
       "columns": [
        {
         "name": "Date",
         "rawType": "datetime64[ns]",
         "type": "datetime"
        },
        {
         "name": "Date",
         "rawType": "datetime64[ns]",
         "type": "datetime"
        },
        {
         "name": "BBAS3",
         "rawType": "float64",
         "type": "float"
        },
        {
         "name": "SELIC",
         "rawType": "float64",
         "type": "float"
        },
        {
         "name": "Cambio",
         "rawType": "float64",
         "type": "float"
        },
        {
         "name": "IPCA",
         "rawType": "float64",
         "type": "float"
        },
        {
         "name": "BBAS3 Ontem",
         "rawType": "float64",
         "type": "float"
        }
       ],
       "conversionMethod": "pd.DataFrame",
       "ref": "d28e1945-4b9a-443a-a4fd-e46387d300cd",
       "rows": [
        [
         "2017-01-02 00:00:00",
         "2017-01-02 00:00:00",
         "8.264060974121094",
         "0.1375",
         "3.2723",
         "0.0535395444201696",
         null
        ],
        [
         "2017-01-03 00:00:00",
         "2017-01-03 00:00:00",
         "8.642154693603516",
         "0.1375",
         "3.2626",
         "0.0535395444201696",
         "8.264060974121094"
        ],
        [
         "2017-01-04 00:00:00",
         "2017-01-04 00:00:00",
         "8.597146034240723",
         "0.1375",
         "3.2327",
         "0.0535395444201696",
         "8.642154693603516"
        ],
        [
         "2017-01-05 00:00:00",
         "2017-01-05 00:00:00",
         "8.576143264770508",
         "0.1375",
         "3.2123",
         "0.0535395444201696",
         "8.597146034240723"
        ],
        [
         "2017-01-06 00:00:00",
         "2017-01-06 00:00:00",
         "8.669159889221191",
         "0.1375",
         "3.2051",
         "0.0535395444201696",
         "8.576143264770508"
        ]
       ],
       "shape": {
        "columns": 6,
        "rows": 5
       }
      },
      "text/html": [
       "<div>\n",
       "<style scoped>\n",
       "    .dataframe tbody tr th:only-of-type {\n",
       "        vertical-align: middle;\n",
       "    }\n",
       "\n",
       "    .dataframe tbody tr th {\n",
       "        vertical-align: top;\n",
       "    }\n",
       "\n",
       "    .dataframe thead th {\n",
       "        text-align: right;\n",
       "    }\n",
       "</style>\n",
       "<table border=\"1\" class=\"dataframe\">\n",
       "  <thead>\n",
       "    <tr style=\"text-align: right;\">\n",
       "      <th></th>\n",
       "      <th>Date</th>\n",
       "      <th>BBAS3</th>\n",
       "      <th>SELIC</th>\n",
       "      <th>Cambio</th>\n",
       "      <th>IPCA</th>\n",
       "      <th>BBAS3 Ontem</th>\n",
       "    </tr>\n",
       "    <tr>\n",
       "      <th>Date</th>\n",
       "      <th></th>\n",
       "      <th></th>\n",
       "      <th></th>\n",
       "      <th></th>\n",
       "      <th></th>\n",
       "      <th></th>\n",
       "    </tr>\n",
       "  </thead>\n",
       "  <tbody>\n",
       "    <tr>\n",
       "      <th>2017-01-02</th>\n",
       "      <td>2017-01-02</td>\n",
       "      <td>8.264061</td>\n",
       "      <td>0.1375</td>\n",
       "      <td>3.2723</td>\n",
       "      <td>0.05354</td>\n",
       "      <td>NaN</td>\n",
       "    </tr>\n",
       "    <tr>\n",
       "      <th>2017-01-03</th>\n",
       "      <td>2017-01-03</td>\n",
       "      <td>8.642155</td>\n",
       "      <td>0.1375</td>\n",
       "      <td>3.2626</td>\n",
       "      <td>0.05354</td>\n",
       "      <td>8.264061</td>\n",
       "    </tr>\n",
       "    <tr>\n",
       "      <th>2017-01-04</th>\n",
       "      <td>2017-01-04</td>\n",
       "      <td>8.597146</td>\n",
       "      <td>0.1375</td>\n",
       "      <td>3.2327</td>\n",
       "      <td>0.05354</td>\n",
       "      <td>8.642155</td>\n",
       "    </tr>\n",
       "    <tr>\n",
       "      <th>2017-01-05</th>\n",
       "      <td>2017-01-05</td>\n",
       "      <td>8.576143</td>\n",
       "      <td>0.1375</td>\n",
       "      <td>3.2123</td>\n",
       "      <td>0.05354</td>\n",
       "      <td>8.597146</td>\n",
       "    </tr>\n",
       "    <tr>\n",
       "      <th>2017-01-06</th>\n",
       "      <td>2017-01-06</td>\n",
       "      <td>8.669160</td>\n",
       "      <td>0.1375</td>\n",
       "      <td>3.2051</td>\n",
       "      <td>0.05354</td>\n",
       "      <td>8.576143</td>\n",
       "    </tr>\n",
       "  </tbody>\n",
       "</table>\n",
       "</div>"
      ],
      "text/plain": [
       "                 Date     BBAS3   SELIC  Cambio     IPCA  BBAS3 Ontem\n",
       "Date                                                                 \n",
       "2017-01-02 2017-01-02  8.264061  0.1375  3.2723  0.05354          NaN\n",
       "2017-01-03 2017-01-03  8.642155  0.1375  3.2626  0.05354     8.264061\n",
       "2017-01-04 2017-01-04  8.597146  0.1375  3.2327  0.05354     8.642155\n",
       "2017-01-05 2017-01-05  8.576143  0.1375  3.2123  0.05354     8.597146\n",
       "2017-01-06 2017-01-06  8.669160  0.1375  3.2051  0.05354     8.576143"
      ]
     },
     "execution_count": 31,
     "metadata": {},
     "output_type": "execute_result"
    }
   ],
   "source": [
    "df.head()"
   ]
  },
  {
   "cell_type": "code",
   "execution_count": 32,
   "id": "44919a67",
   "metadata": {},
   "outputs": [],
   "source": [
    "df.dropna(inplace=True)"
   ]
  },
  {
   "cell_type": "code",
   "execution_count": 33,
   "id": "14314563",
   "metadata": {},
   "outputs": [
    {
     "data": {
      "text/plain": [
       "(1985, 6)"
      ]
     },
     "execution_count": 33,
     "metadata": {},
     "output_type": "execute_result"
    }
   ],
   "source": [
    "df.shape"
   ]
  },
  {
   "cell_type": "code",
   "execution_count": 73,
   "id": "c66cbb96",
   "metadata": {},
   "outputs": [],
   "source": [
    "scaler = MinMaxScaler()\n",
    "y = scaler.fit_transform(df[\"BBAS3\"].values.reshape(-1, 1))\n",
    "X = scaler.fit_transform(df[\"BBAS3 Ontem\"].values.reshape(-1, 1))"
   ]
  },
  {
   "cell_type": "code",
   "execution_count": 74,
   "id": "143b650d",
   "metadata": {},
   "outputs": [],
   "source": [
    "y_train, y_test = y[:1786], y[1786:]\n",
    "X_train, X_test = X[:1786], X[1786:]"
   ]
  },
  {
   "cell_type": "code",
   "execution_count": 77,
   "id": "98354140",
   "metadata": {},
   "outputs": [
    {
     "name": "stdout",
     "output_type": "stream",
     "text": [
      "Epoch 1/50\n"
     ]
    },
    {
     "name": "stderr",
     "output_type": "stream",
     "text": [
      "c:\\Users\\felip\\Felipe\\Projetos\\TCC\\venv\\Lib\\site-packages\\keras\\src\\layers\\rnn\\rnn.py:199: UserWarning: Do not pass an `input_shape`/`input_dim` argument to a layer. When using Sequential models, prefer using an `Input(shape)` object as the first layer in the model instead.\n",
      "  super().__init__(**kwargs)\n"
     ]
    },
    {
     "name": "stdout",
     "output_type": "stream",
     "text": [
      "\u001b[1m56/56\u001b[0m \u001b[32m━━━━━━━━━━━━━━━━━━━━\u001b[0m\u001b[37m\u001b[0m \u001b[1m2s\u001b[0m 6ms/step - loss: 0.1156 - val_loss: 0.3136\n",
      "Epoch 2/50\n",
      "\u001b[1m56/56\u001b[0m \u001b[32m━━━━━━━━━━━━━━━━━━━━\u001b[0m\u001b[37m\u001b[0m \u001b[1m0s\u001b[0m 2ms/step - loss: 0.0309 - val_loss: 0.1167\n",
      "Epoch 3/50\n",
      "\u001b[1m56/56\u001b[0m \u001b[32m━━━━━━━━━━━━━━━━━━━━\u001b[0m\u001b[37m\u001b[0m \u001b[1m0s\u001b[0m 3ms/step - loss: 0.0183 - val_loss: 0.0781\n",
      "Epoch 4/50\n",
      "\u001b[1m56/56\u001b[0m \u001b[32m━━━━━━━━━━━━━━━━━━━━\u001b[0m\u001b[37m\u001b[0m \u001b[1m0s\u001b[0m 3ms/step - loss: 0.0119 - val_loss: 0.0395\n",
      "Epoch 5/50\n",
      "\u001b[1m56/56\u001b[0m \u001b[32m━━━━━━━━━━━━━━━━━━━━\u001b[0m\u001b[37m\u001b[0m \u001b[1m0s\u001b[0m 3ms/step - loss: 0.0065 - val_loss: 0.0147\n",
      "Epoch 6/50\n",
      "\u001b[1m56/56\u001b[0m \u001b[32m━━━━━━━━━━━━━━━━━━━━\u001b[0m\u001b[37m\u001b[0m \u001b[1m0s\u001b[0m 3ms/step - loss: 0.0027 - val_loss: 0.0027\n",
      "Epoch 7/50\n",
      "\u001b[1m56/56\u001b[0m \u001b[32m━━━━━━━━━━━━━━━━━━━━\u001b[0m\u001b[37m\u001b[0m \u001b[1m0s\u001b[0m 2ms/step - loss: 9.1144e-04 - val_loss: 2.0503e-04\n",
      "Epoch 8/50\n",
      "\u001b[1m56/56\u001b[0m \u001b[32m━━━━━━━━━━━━━━━━━━━━\u001b[0m\u001b[37m\u001b[0m \u001b[1m0s\u001b[0m 3ms/step - loss: 3.8370e-04 - val_loss: 4.5416e-04\n",
      "Epoch 9/50\n",
      "\u001b[1m56/56\u001b[0m \u001b[32m━━━━━━━━━━━━━━━━━━━━\u001b[0m\u001b[37m\u001b[0m \u001b[1m0s\u001b[0m 2ms/step - loss: 3.1727e-04 - val_loss: 7.8741e-04\n",
      "Epoch 10/50\n",
      "\u001b[1m56/56\u001b[0m \u001b[32m━━━━━━━━━━━━━━━━━━━━\u001b[0m\u001b[37m\u001b[0m \u001b[1m0s\u001b[0m 3ms/step - loss: 2.9593e-04 - val_loss: 6.5597e-04\n",
      "Epoch 11/50\n",
      "\u001b[1m56/56\u001b[0m \u001b[32m━━━━━━━━━━━━━━━━━━━━\u001b[0m\u001b[37m\u001b[0m \u001b[1m0s\u001b[0m 3ms/step - loss: 3.1217e-04 - val_loss: 8.4211e-04\n",
      "Epoch 12/50\n",
      "\u001b[1m56/56\u001b[0m \u001b[32m━━━━━━━━━━━━━━━━━━━━\u001b[0m\u001b[37m\u001b[0m \u001b[1m0s\u001b[0m 3ms/step - loss: 2.9418e-04 - val_loss: 8.7977e-04\n",
      "Epoch 13/50\n",
      "\u001b[1m56/56\u001b[0m \u001b[32m━━━━━━━━━━━━━━━━━━━━\u001b[0m\u001b[37m\u001b[0m \u001b[1m0s\u001b[0m 3ms/step - loss: 3.0135e-04 - val_loss: 7.8142e-04\n",
      "Epoch 14/50\n",
      "\u001b[1m56/56\u001b[0m \u001b[32m━━━━━━━━━━━━━━━━━━━━\u001b[0m\u001b[37m\u001b[0m \u001b[1m0s\u001b[0m 2ms/step - loss: 2.9103e-04 - val_loss: 7.9217e-04\n",
      "Epoch 15/50\n",
      "\u001b[1m56/56\u001b[0m \u001b[32m━━━━━━━━━━━━━━━━━━━━\u001b[0m\u001b[37m\u001b[0m \u001b[1m0s\u001b[0m 3ms/step - loss: 2.8433e-04 - val_loss: 7.8087e-04\n",
      "Epoch 16/50\n",
      "\u001b[1m56/56\u001b[0m \u001b[32m━━━━━━━━━━━━━━━━━━━━\u001b[0m\u001b[37m\u001b[0m \u001b[1m0s\u001b[0m 3ms/step - loss: 3.1364e-04 - val_loss: 8.9414e-04\n",
      "Epoch 17/50\n",
      "\u001b[1m56/56\u001b[0m \u001b[32m━━━━━━━━━━━━━━━━━━━━\u001b[0m\u001b[37m\u001b[0m \u001b[1m0s\u001b[0m 2ms/step - loss: 2.8614e-04 - val_loss: 8.2114e-04\n",
      "Epoch 18/50\n",
      "\u001b[1m56/56\u001b[0m \u001b[32m━━━━━━━━━━━━━━━━━━━━\u001b[0m\u001b[37m\u001b[0m \u001b[1m0s\u001b[0m 2ms/step - loss: 3.0312e-04 - val_loss: 6.5154e-04\n",
      "Epoch 19/50\n",
      "\u001b[1m56/56\u001b[0m \u001b[32m━━━━━━━━━━━━━━━━━━━━\u001b[0m\u001b[37m\u001b[0m \u001b[1m0s\u001b[0m 3ms/step - loss: 2.8374e-04 - val_loss: 5.8454e-04\n",
      "Epoch 20/50\n",
      "\u001b[1m56/56\u001b[0m \u001b[32m━━━━━━━━━━━━━━━━━━━━\u001b[0m\u001b[37m\u001b[0m \u001b[1m0s\u001b[0m 3ms/step - loss: 2.8438e-04 - val_loss: 7.1075e-04\n",
      "Epoch 21/50\n",
      "\u001b[1m56/56\u001b[0m \u001b[32m━━━━━━━━━━━━━━━━━━━━\u001b[0m\u001b[37m\u001b[0m \u001b[1m0s\u001b[0m 3ms/step - loss: 2.9093e-04 - val_loss: 5.4410e-04\n",
      "Epoch 22/50\n",
      "\u001b[1m56/56\u001b[0m \u001b[32m━━━━━━━━━━━━━━━━━━━━\u001b[0m\u001b[37m\u001b[0m \u001b[1m0s\u001b[0m 2ms/step - loss: 2.9992e-04 - val_loss: 4.6922e-04\n",
      "Epoch 23/50\n",
      "\u001b[1m56/56\u001b[0m \u001b[32m━━━━━━━━━━━━━━━━━━━━\u001b[0m\u001b[37m\u001b[0m \u001b[1m0s\u001b[0m 3ms/step - loss: 2.8523e-04 - val_loss: 5.2367e-04\n",
      "Epoch 24/50\n",
      "\u001b[1m56/56\u001b[0m \u001b[32m━━━━━━━━━━━━━━━━━━━━\u001b[0m\u001b[37m\u001b[0m \u001b[1m0s\u001b[0m 3ms/step - loss: 2.6620e-04 - val_loss: 5.0833e-04\n",
      "Epoch 25/50\n",
      "\u001b[1m56/56\u001b[0m \u001b[32m━━━━━━━━━━━━━━━━━━━━\u001b[0m\u001b[37m\u001b[0m \u001b[1m0s\u001b[0m 2ms/step - loss: 2.5746e-04 - val_loss: 4.0530e-04\n",
      "Epoch 26/50\n",
      "\u001b[1m56/56\u001b[0m \u001b[32m━━━━━━━━━━━━━━━━━━━━\u001b[0m\u001b[37m\u001b[0m \u001b[1m0s\u001b[0m 2ms/step - loss: 2.6158e-04 - val_loss: 4.3635e-04\n",
      "Epoch 27/50\n",
      "\u001b[1m56/56\u001b[0m \u001b[32m━━━━━━━━━━━━━━━━━━━━\u001b[0m\u001b[37m\u001b[0m \u001b[1m0s\u001b[0m 2ms/step - loss: 2.8591e-04 - val_loss: 4.4370e-04\n",
      "Epoch 28/50\n",
      "\u001b[1m56/56\u001b[0m \u001b[32m━━━━━━━━━━━━━━━━━━━━\u001b[0m\u001b[37m\u001b[0m \u001b[1m0s\u001b[0m 2ms/step - loss: 2.7337e-04 - val_loss: 5.7295e-04\n",
      "Epoch 29/50\n",
      "\u001b[1m56/56\u001b[0m \u001b[32m━━━━━━━━━━━━━━━━━━━━\u001b[0m\u001b[37m\u001b[0m \u001b[1m0s\u001b[0m 2ms/step - loss: 2.6936e-04 - val_loss: 4.5715e-04\n",
      "Epoch 30/50\n",
      "\u001b[1m56/56\u001b[0m \u001b[32m━━━━━━━━━━━━━━━━━━━━\u001b[0m\u001b[37m\u001b[0m \u001b[1m0s\u001b[0m 2ms/step - loss: 2.5236e-04 - val_loss: 3.7595e-04\n",
      "Epoch 31/50\n",
      "\u001b[1m56/56\u001b[0m \u001b[32m━━━━━━━━━━━━━━━━━━━━\u001b[0m\u001b[37m\u001b[0m \u001b[1m0s\u001b[0m 2ms/step - loss: 2.5233e-04 - val_loss: 4.5905e-04\n",
      "Epoch 32/50\n",
      "\u001b[1m56/56\u001b[0m \u001b[32m━━━━━━━━━━━━━━━━━━━━\u001b[0m\u001b[37m\u001b[0m \u001b[1m0s\u001b[0m 3ms/step - loss: 2.5823e-04 - val_loss: 3.2612e-04\n",
      "Epoch 33/50\n",
      "\u001b[1m56/56\u001b[0m \u001b[32m━━━━━━━━━━━━━━━━━━━━\u001b[0m\u001b[37m\u001b[0m \u001b[1m0s\u001b[0m 3ms/step - loss: 2.6442e-04 - val_loss: 3.3261e-04\n",
      "Epoch 34/50\n",
      "\u001b[1m56/56\u001b[0m \u001b[32m━━━━━━━━━━━━━━━━━━━━\u001b[0m\u001b[37m\u001b[0m \u001b[1m0s\u001b[0m 2ms/step - loss: 2.8409e-04 - val_loss: 4.5492e-04\n",
      "Epoch 35/50\n",
      "\u001b[1m56/56\u001b[0m \u001b[32m━━━━━━━━━━━━━━━━━━━━\u001b[0m\u001b[37m\u001b[0m \u001b[1m0s\u001b[0m 3ms/step - loss: 2.3181e-04 - val_loss: 4.5637e-04\n",
      "Epoch 36/50\n",
      "\u001b[1m56/56\u001b[0m \u001b[32m━━━━━━━━━━━━━━━━━━━━\u001b[0m\u001b[37m\u001b[0m \u001b[1m0s\u001b[0m 2ms/step - loss: 2.2555e-04 - val_loss: 3.6602e-04\n",
      "Epoch 37/50\n",
      "\u001b[1m56/56\u001b[0m \u001b[32m━━━━━━━━━━━━━━━━━━━━\u001b[0m\u001b[37m\u001b[0m \u001b[1m0s\u001b[0m 2ms/step - loss: 2.3148e-04 - val_loss: 3.5105e-04\n",
      "Epoch 38/50\n",
      "\u001b[1m56/56\u001b[0m \u001b[32m━━━━━━━━━━━━━━━━━━━━\u001b[0m\u001b[37m\u001b[0m \u001b[1m0s\u001b[0m 2ms/step - loss: 2.4836e-04 - val_loss: 4.2878e-04\n",
      "Epoch 39/50\n",
      "\u001b[1m56/56\u001b[0m \u001b[32m━━━━━━━━━━━━━━━━━━━━\u001b[0m\u001b[37m\u001b[0m \u001b[1m0s\u001b[0m 3ms/step - loss: 2.2451e-04 - val_loss: 2.6244e-04\n",
      "Epoch 40/50\n",
      "\u001b[1m56/56\u001b[0m \u001b[32m━━━━━━━━━━━━━━━━━━━━\u001b[0m\u001b[37m\u001b[0m \u001b[1m0s\u001b[0m 3ms/step - loss: 2.4051e-04 - val_loss: 2.5422e-04\n",
      "Epoch 41/50\n",
      "\u001b[1m56/56\u001b[0m \u001b[32m━━━━━━━━━━━━━━━━━━━━\u001b[0m\u001b[37m\u001b[0m \u001b[1m0s\u001b[0m 3ms/step - loss: 2.4288e-04 - val_loss: 2.6785e-04\n",
      "Epoch 42/50\n",
      "\u001b[1m56/56\u001b[0m \u001b[32m━━━━━━━━━━━━━━━━━━━━\u001b[0m\u001b[37m\u001b[0m \u001b[1m0s\u001b[0m 3ms/step - loss: 2.4219e-04 - val_loss: 2.1449e-04\n",
      "Epoch 43/50\n",
      "\u001b[1m56/56\u001b[0m \u001b[32m━━━━━━━━━━━━━━━━━━━━\u001b[0m\u001b[37m\u001b[0m \u001b[1m0s\u001b[0m 3ms/step - loss: 2.4940e-04 - val_loss: 2.6031e-04\n",
      "Epoch 44/50\n",
      "\u001b[1m56/56\u001b[0m \u001b[32m━━━━━━━━━━━━━━━━━━━━\u001b[0m\u001b[37m\u001b[0m \u001b[1m0s\u001b[0m 2ms/step - loss: 2.1778e-04 - val_loss: 2.8622e-04\n",
      "Epoch 45/50\n",
      "\u001b[1m56/56\u001b[0m \u001b[32m━━━━━━━━━━━━━━━━━━━━\u001b[0m\u001b[37m\u001b[0m \u001b[1m0s\u001b[0m 2ms/step - loss: 2.3427e-04 - val_loss: 2.3177e-04\n",
      "Epoch 46/50\n",
      "\u001b[1m56/56\u001b[0m \u001b[32m━━━━━━━━━━━━━━━━━━━━\u001b[0m\u001b[37m\u001b[0m \u001b[1m0s\u001b[0m 2ms/step - loss: 2.2613e-04 - val_loss: 2.5909e-04\n",
      "Epoch 47/50\n",
      "\u001b[1m56/56\u001b[0m \u001b[32m━━━━━━━━━━━━━━━━━━━━\u001b[0m\u001b[37m\u001b[0m \u001b[1m0s\u001b[0m 2ms/step - loss: 2.2350e-04 - val_loss: 1.8185e-04\n",
      "Epoch 48/50\n",
      "\u001b[1m56/56\u001b[0m \u001b[32m━━━━━━━━━━━━━━━━━━━━\u001b[0m\u001b[37m\u001b[0m \u001b[1m0s\u001b[0m 3ms/step - loss: 2.2838e-04 - val_loss: 2.3610e-04\n",
      "Epoch 49/50\n",
      "\u001b[1m56/56\u001b[0m \u001b[32m━━━━━━━━━━━━━━━━━━━━\u001b[0m\u001b[37m\u001b[0m \u001b[1m0s\u001b[0m 2ms/step - loss: 2.3330e-04 - val_loss: 1.8510e-04\n",
      "Epoch 50/50\n",
      "\u001b[1m56/56\u001b[0m \u001b[32m━━━━━━━━━━━━━━━━━━━━\u001b[0m\u001b[37m\u001b[0m \u001b[1m0s\u001b[0m 2ms/step - loss: 2.6719e-04 - val_loss: 1.8115e-04\n"
     ]
    }
   ],
   "source": [
    "from tensorflow.keras.models import Sequential\n",
    "from tensorflow.keras.layers import LSTM, Dense\n",
    "\n",
    "# 1. Definir modelo\n",
    "model = Sequential([\n",
    "    LSTM(50, activation=\"tanh\", input_shape=(1, 1)),  # 50 neurônios, input = (timesteps=1, features=1)\n",
    "    # Dense(units=10, activation = 'linear'),\n",
    "    Dense(1)  # Saída (preço previsto)\n",
    "])\n",
    "\n",
    "# 2. Compilar\n",
    "model.compile(optimizer=\"adam\", loss=\"mse\")  # Otimizador Adam, erro quadrático médio\n",
    "\n",
    "# 3. Treinar\n",
    "history = model.fit(\n",
    "    X_train, y_train,\n",
    "    epochs=50,\n",
    "    batch_size=32,\n",
    "    validation_data=(X_test, y_test)\n",
    ")"
   ]
  },
  {
   "cell_type": "code",
   "execution_count": 108,
   "id": "4b68c9c4",
   "metadata": {},
   "outputs": [
    {
     "name": "stdout",
     "output_type": "stream",
     "text": [
      "\u001b[1m7/7\u001b[0m \u001b[32m━━━━━━━━━━━━━━━━━━━━\u001b[0m\u001b[37m\u001b[0m \u001b[1m0s\u001b[0m 2ms/step \n",
      "MAPE: 0.008273519324203216\n",
      "RMSE: 0.27319038434545834\n",
      "R²: 0.9086550843218768\n"
     ]
    },
    {
     "data": {
      "image/png": "[encoded data removed]",
      "text/plain": [
       "<Figure size 1800x600 with 1 Axes>"
      ]
     },
     "metadata": {},
     "output_type": "display_data"
    }
   ],
   "source": [
    "# 1. Prever no conjunto de teste\n",
    "y_pred = model.predict(X_test)\n",
    "\n",
    "# 2. Desnormalizar (voltar para escala original)\n",
    "y_test_real = scaler.inverse_transform(y_test)\n",
    "y_pred_real = scaler.inverse_transform(y_pred)\n",
    "\n",
    "# 3. Calcular métricas\n",
    "from sklearn.metrics import root_mean_squared_error, mean_absolute_percentage_error\n",
    "\n",
    "mape = mean_absolute_percentage_error(y_test_real, y_pred_real)\n",
    "rmse = root_mean_squared_error(y_test_real, y_pred_real)\n",
    "r2 = r2_score(y_test_real, y_pred_real)\n",
    "\n",
    "print(f\"MAPE: {mape}\")\n",
    "print(f\"RMSE: {rmse}\")\n",
    "print(f\"R²: {r2}\")\n",
    "\n",
    "# 4. Plotar resultados\n",
    "\n",
    "plt.plot(y_test_real, label=\"Real\")\n",
    "plt.plot(y_pred_real, label=\"Previsto\", linestyle=\"--\")\n",
    "plt.legend()\n",
    "plt.show()"
   ]
  },
  {
   "cell_type": "code",
   "execution_count": 107,
   "id": "f2a98c1f",
   "metadata": {},
   "outputs": [],
   "source": [
    "\"\"\"train_results = pd.DataFrame({\n",
    "    \"Real\": y_train_real,\n",
    "    \"Previsto\": y_pred_train_real\n",
    "})\n",
    "\"\"\"\n",
    "test_results = pd.DataFrame({\n",
    "    \"Real\": y_test_real.reshape(-1),\n",
    "    \"Previsto\": y_pred_real.reshape(-1)\n",
    "})\n",
    "\n",
    "#all_results = pd.concat(train_results, test_results, axis=0)"
   ]
  },
  {
   "cell_type": "code",
   "execution_count": 105,
   "id": "6b441531",
   "metadata": {},
   "outputs": [
    {
     "data": {
      "text/plain": [
       "1786"
      ]
     },
     "execution_count": 105,
     "metadata": {},
     "output_type": "execute_result"
    }
   ],
   "source": [
    "len(y_pred_real)"
   ]
  }
 ],
 "metadata": {
  "kernelspec": {
   "display_name": "venv",
   "language": "python",
   "name": "python3"
  },
  "language_info": {
   "codemirror_mode": {
    "name": "ipython",
    "version": 3
   },
   "file_extension": ".py",
   "mimetype": "text/x-python",
   "name": "python",
   "nbconvert_exporter": "python",
   "pygments_lexer": "ipython3",
   "version": "3.12.10"
  }
 },
 "nbformat": 4,
 "nbformat_minor": 5
}
