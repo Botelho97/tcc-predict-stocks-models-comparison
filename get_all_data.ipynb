{
 "cells": [
  {
   "cell_type": "code",
   "execution_count": 6,
   "id": "60d0622e",
   "metadata": {},
   "outputs": [],
   "source": [
    "from auxiliar_functions import get_ipca_data, get_selic_data, get_dollar_data, concat_dataframes, get_multiple_stocks_data\n",
    "import matplotlib.pyplot as plt\n",
    "from matplotlib import rcParams"
   ]
  },
  {
   "cell_type": "code",
   "execution_count": 4,
   "id": "03ff66e5",
   "metadata": {},
   "outputs": [],
   "source": [
    "stocks_list = [\"PETR4\", \"ITUB4\", \"VALE3\", \"BBAS3\", \"BBSE3\", \"B3SA3\", \"SAPR11\"]"
   ]
  },
  {
   "cell_type": "code",
   "execution_count": 5,
   "id": "b0248257",
   "metadata": {},
   "outputs": [],
   "source": [
    "ipca = get_ipca_data()\n",
    "selic = get_selic_data()\n",
    "cambio = get_dollar_data()"
   ]
  },
  {
   "cell_type": "code",
   "execution_count": 7,
   "id": "e775519d",
   "metadata": {},
   "outputs": [],
   "source": [
    "stock_data = get_multiple_stocks_data(stock_list=stocks_list)"
   ]
  },
  {
   "cell_type": "code",
   "execution_count": 8,
   "id": "2ea36218",
   "metadata": {},
   "outputs": [
    {
     "data": {
      "application/vnd.microsoft.datawrangler.viewer.v0+json": {
       "columns": [
        {
         "name": "index",
         "rawType": "int64",
         "type": "integer"
        },
        {
         "name": "Date",
         "rawType": "datetime64[ns]",
         "type": "datetime"
        },
        {
         "name": "Close PETR4",
         "rawType": "float64",
         "type": "float"
        },
        {
         "name": "Volume PETR4",
         "rawType": "int64",
         "type": "integer"
        },
        {
         "name": "Close ITUB4",
         "rawType": "float64",
         "type": "float"
        },
        {
         "name": "Volume ITUB4",
         "rawType": "int64",
         "type": "integer"
        },
        {
         "name": "Close VALE3",
         "rawType": "float64",
         "type": "float"
        },
        {
         "name": "Volume VALE3",
         "rawType": "int64",
         "type": "integer"
        },
        {
         "name": "Close BBAS3",
         "rawType": "float64",
         "type": "float"
        },
        {
         "name": "Volume BBAS3",
         "rawType": "int64",
         "type": "integer"
        },
        {
         "name": "Close BBSE3",
         "rawType": "float64",
         "type": "float"
        },
        {
         "name": "Volume BBSE3",
         "rawType": "int64",
         "type": "integer"
        },
        {
         "name": "Close B3SA3",
         "rawType": "float64",
         "type": "float"
        },
        {
         "name": "Volume B3SA3",
         "rawType": "int64",
         "type": "integer"
        },
        {
         "name": "Close SAPR11",
         "rawType": "float64",
         "type": "float"
        },
        {
         "name": "Volume SAPR11",
         "rawType": "float64",
         "type": "float"
        },
        {
         "name": "SELIC",
         "rawType": "float64",
         "type": "float"
        },
        {
         "name": "IPCA",
         "rawType": "float64",
         "type": "float"
        },
        {
         "name": "Cambio",
         "rawType": "float64",
         "type": "float"
        }
       ],
       "conversionMethod": "pd.DataFrame",
       "ref": "8930a9ca-c815-4ee6-967c-b6789a257696",
       "rows": [
        [
         "0",
         "2017-01-02 00:00:00",
         "4.408222198486328",
         "7525700",
         "17.967449188232422",
         "3415665",
         "13.99431324005127",
         "1118500",
         "8.3905029296875",
         "3936400",
         "13.87110424041748",
         "1035100",
         "4.121327877044678",
         "8419500",
         null,
         null,
         "0.1375",
         "0.053539544420169616",
         "3.2723"
        ],
        [
         "1",
         "2017-01-03 00:00:00",
         "4.660808563232422",
         "39947800",
         "18.728361129760742",
         "27736500",
         "14.614173889160156",
         "5658500",
         "8.774380683898926",
         "15157800",
         "14.36471939086914",
         "3355900",
         "4.2909417152404785",
         "43704600",
         null,
         null,
         "0.1375",
         "0.053539544420169616",
         "3.2626"
        ],
        [
         "2",
         "2017-01-04 00:00:00",
         "4.660808563232422",
         "37071700",
         "18.808744430541992",
         "14981175",
         "14.35171127319336",
         "2144400",
         "8.728681564331055",
         "8312600",
         "14.818449974060059",
         "6728900",
         "4.371951580047607",
         "28232400",
         null,
         null,
         "0.1375",
         "0.053539544420169616",
         "3.2327"
        ],
        [
         "3",
         "2017-01-05 00:00:00",
         "4.735983848571777",
         "47586300",
         "19.065948486328125",
         "24187680",
         "14.89897632598877",
         "4031600",
         "8.707357406616211",
         "10914200",
         "14.519288063049316",
         "3386300",
         "4.318787574768066",
         "35297700",
         null,
         null,
         "0.1375",
         "0.053539544420169616",
         "3.2123"
        ],
        [
         "4",
         "2017-01-06 00:00:00",
         "4.708920478820801",
         "25592000",
         "19.1302547454834",
         "15419415",
         "14.502488136291504",
         "4213500",
         "8.801802635192871",
         "7384800",
         "14.294913291931152",
         "1998400",
         "4.316257953643799",
         "37683300",
         null,
         null,
         "0.1375",
         "0.053539544420169616",
         "3.2051"
        ]
       ],
       "shape": {
        "columns": 18,
        "rows": 5
       }
      },
      "text/html": [
       "<div>\n",
       "<style scoped>\n",
       "    .dataframe tbody tr th:only-of-type {\n",
       "        vertical-align: middle;\n",
       "    }\n",
       "\n",
       "    .dataframe tbody tr th {\n",
       "        vertical-align: top;\n",
       "    }\n",
       "\n",
       "    .dataframe thead th {\n",
       "        text-align: right;\n",
       "    }\n",
       "</style>\n",
       "<table border=\"1\" class=\"dataframe\">\n",
       "  <thead>\n",
       "    <tr style=\"text-align: right;\">\n",
       "      <th></th>\n",
       "      <th>Date</th>\n",
       "      <th>Close PETR4</th>\n",
       "      <th>Volume PETR4</th>\n",
       "      <th>Close ITUB4</th>\n",
       "      <th>Volume ITUB4</th>\n",
       "      <th>Close VALE3</th>\n",
       "      <th>Volume VALE3</th>\n",
       "      <th>Close BBAS3</th>\n",
       "      <th>Volume BBAS3</th>\n",
       "      <th>Close BBSE3</th>\n",
       "      <th>Volume BBSE3</th>\n",
       "      <th>Close B3SA3</th>\n",
       "      <th>Volume B3SA3</th>\n",
       "      <th>Close SAPR11</th>\n",
       "      <th>Volume SAPR11</th>\n",
       "      <th>SELIC</th>\n",
       "      <th>IPCA</th>\n",
       "      <th>Cambio</th>\n",
       "    </tr>\n",
       "  </thead>\n",
       "  <tbody>\n",
       "    <tr>\n",
       "      <th>0</th>\n",
       "      <td>2017-01-02</td>\n",
       "      <td>4.408222</td>\n",
       "      <td>7525700</td>\n",
       "      <td>17.967449</td>\n",
       "      <td>3415665</td>\n",
       "      <td>13.994313</td>\n",
       "      <td>1118500</td>\n",
       "      <td>8.390503</td>\n",
       "      <td>3936400</td>\n",
       "      <td>13.871104</td>\n",
       "      <td>1035100</td>\n",
       "      <td>4.121328</td>\n",
       "      <td>8419500</td>\n",
       "      <td>NaN</td>\n",
       "      <td>NaN</td>\n",
       "      <td>0.1375</td>\n",
       "      <td>0.05354</td>\n",
       "      <td>3.2723</td>\n",
       "    </tr>\n",
       "    <tr>\n",
       "      <th>1</th>\n",
       "      <td>2017-01-03</td>\n",
       "      <td>4.660809</td>\n",
       "      <td>39947800</td>\n",
       "      <td>18.728361</td>\n",
       "      <td>27736500</td>\n",
       "      <td>14.614174</td>\n",
       "      <td>5658500</td>\n",
       "      <td>8.774381</td>\n",
       "      <td>15157800</td>\n",
       "      <td>14.364719</td>\n",
       "      <td>3355900</td>\n",
       "      <td>4.290942</td>\n",
       "      <td>43704600</td>\n",
       "      <td>NaN</td>\n",
       "      <td>NaN</td>\n",
       "      <td>0.1375</td>\n",
       "      <td>0.05354</td>\n",
       "      <td>3.2626</td>\n",
       "    </tr>\n",
       "    <tr>\n",
       "      <th>2</th>\n",
       "      <td>2017-01-04</td>\n",
       "      <td>4.660809</td>\n",
       "      <td>37071700</td>\n",
       "      <td>18.808744</td>\n",
       "      <td>14981175</td>\n",
       "      <td>14.351711</td>\n",
       "      <td>2144400</td>\n",
       "      <td>8.728682</td>\n",
       "      <td>8312600</td>\n",
       "      <td>14.818450</td>\n",
       "      <td>6728900</td>\n",
       "      <td>4.371952</td>\n",
       "      <td>28232400</td>\n",
       "      <td>NaN</td>\n",
       "      <td>NaN</td>\n",
       "      <td>0.1375</td>\n",
       "      <td>0.05354</td>\n",
       "      <td>3.2327</td>\n",
       "    </tr>\n",
       "    <tr>\n",
       "      <th>3</th>\n",
       "      <td>2017-01-05</td>\n",
       "      <td>4.735984</td>\n",
       "      <td>47586300</td>\n",
       "      <td>19.065948</td>\n",
       "      <td>24187680</td>\n",
       "      <td>14.898976</td>\n",
       "      <td>4031600</td>\n",
       "      <td>8.707357</td>\n",
       "      <td>10914200</td>\n",
       "      <td>14.519288</td>\n",
       "      <td>3386300</td>\n",
       "      <td>4.318788</td>\n",
       "      <td>35297700</td>\n",
       "      <td>NaN</td>\n",
       "      <td>NaN</td>\n",
       "      <td>0.1375</td>\n",
       "      <td>0.05354</td>\n",
       "      <td>3.2123</td>\n",
       "    </tr>\n",
       "    <tr>\n",
       "      <th>4</th>\n",
       "      <td>2017-01-06</td>\n",
       "      <td>4.708920</td>\n",
       "      <td>25592000</td>\n",
       "      <td>19.130255</td>\n",
       "      <td>15419415</td>\n",
       "      <td>14.502488</td>\n",
       "      <td>4213500</td>\n",
       "      <td>8.801803</td>\n",
       "      <td>7384800</td>\n",
       "      <td>14.294913</td>\n",
       "      <td>1998400</td>\n",
       "      <td>4.316258</td>\n",
       "      <td>37683300</td>\n",
       "      <td>NaN</td>\n",
       "      <td>NaN</td>\n",
       "      <td>0.1375</td>\n",
       "      <td>0.05354</td>\n",
       "      <td>3.2051</td>\n",
       "    </tr>\n",
       "  </tbody>\n",
       "</table>\n",
       "</div>"
      ],
      "text/plain": [
       "        Date  Close PETR4  Volume PETR4  Close ITUB4  Volume ITUB4  \\\n",
       "0 2017-01-02     4.408222       7525700    17.967449       3415665   \n",
       "1 2017-01-03     4.660809      39947800    18.728361      27736500   \n",
       "2 2017-01-04     4.660809      37071700    18.808744      14981175   \n",
       "3 2017-01-05     4.735984      47586300    19.065948      24187680   \n",
       "4 2017-01-06     4.708920      25592000    19.130255      15419415   \n",
       "\n",
       "   Close VALE3  Volume VALE3  Close BBAS3  Volume BBAS3  Close BBSE3  \\\n",
       "0    13.994313       1118500     8.390503       3936400    13.871104   \n",
       "1    14.614174       5658500     8.774381      15157800    14.364719   \n",
       "2    14.351711       2144400     8.728682       8312600    14.818450   \n",
       "3    14.898976       4031600     8.707357      10914200    14.519288   \n",
       "4    14.502488       4213500     8.801803       7384800    14.294913   \n",
       "\n",
       "   Volume BBSE3  Close B3SA3  Volume B3SA3  Close SAPR11  Volume SAPR11  \\\n",
       "0       1035100     4.121328       8419500           NaN            NaN   \n",
       "1       3355900     4.290942      43704600           NaN            NaN   \n",
       "2       6728900     4.371952      28232400           NaN            NaN   \n",
       "3       3386300     4.318788      35297700           NaN            NaN   \n",
       "4       1998400     4.316258      37683300           NaN            NaN   \n",
       "\n",
       "    SELIC     IPCA  Cambio  \n",
       "0  0.1375  0.05354  3.2723  \n",
       "1  0.1375  0.05354  3.2626  \n",
       "2  0.1375  0.05354  3.2327  \n",
       "3  0.1375  0.05354  3.2123  \n",
       "4  0.1375  0.05354  3.2051  "
      ]
     },
     "execution_count": 8,
     "metadata": {},
     "output_type": "execute_result"
    }
   ],
   "source": [
    "df = concat_dataframes(stock_data, selic, ipca, cambio)\n",
    "df.head()"
   ]
  },
  {
   "cell_type": "code",
   "execution_count": 9,
   "id": "7a991fb2",
   "metadata": {},
   "outputs": [],
   "source": [
    "df.to_csv(\"data/stocks_info.csv\")"
   ]
  },
  {
   "cell_type": "code",
   "execution_count": null,
   "id": "200c05c2",
   "metadata": {},
   "outputs": [],
   "source": []
  }
 ],
 "metadata": {
  "kernelspec": {
   "display_name": "venv",
   "language": "python",
   "name": "python3"
  },
  "language_info": {
   "codemirror_mode": {
    "name": "ipython",
    "version": 3
   },
   "file_extension": ".py",
   "mimetype": "text/x-python",
   "name": "python",
   "nbconvert_exporter": "python",
   "pygments_lexer": "ipython3",
   "version": "3.12.10"
  }
 },
 "nbformat": 4,
 "nbformat_minor": 5
}
