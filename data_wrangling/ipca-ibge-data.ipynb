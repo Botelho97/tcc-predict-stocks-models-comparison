{
 "cells": [
  {
   "cell_type": "code",
   "execution_count": 2,
   "id": "e9744bfc",
   "metadata": {},
   "outputs": [],
   "source": [
    "import pandas as pd"
   ]
  },
  {
   "cell_type": "code",
   "execution_count": 3,
   "id": "37c53664",
   "metadata": {},
   "outputs": [],
   "source": [
    "df = pd.read_excel('data/ipca-ibge.xlsx') "
   ]
  },
  {
   "cell_type": "code",
   "execution_count": 4,
   "id": "5f1e3615",
   "metadata": {},
   "outputs": [
    {
     "data": {
      "application/vnd.microsoft.datawrangler.viewer.v0+json": {
       "columns": [
        {
         "name": "index",
         "rawType": "int64",
         "type": "integer"
        },
        {
         "name": "Data",
         "rawType": "datetime64[ns]",
         "type": "datetime"
        },
        {
         "name": "IPCA",
         "rawType": "float64",
         "type": "float"
        },
        {
         "name": "Fator",
         "rawType": "float64",
         "type": "float"
        },
        {
         "name": "IPCA 12 meses",
         "rawType": "float64",
         "type": "float"
        }
       ],
       "conversionMethod": "pd.DataFrame",
       "ref": "2eea952d-af24-42c1-b6c8-7b8fcfc8ba36",
       "rows": [
        [
         "365",
         "2024-12-01 00:00:00",
         "0.52",
         "1.0052",
         "0.04831295791859591"
        ],
        [
         "366",
         "2025-01-01 00:00:00",
         "0.16",
         "1.0016",
         "0.04559874392677332"
        ],
        [
         "367",
         "2025-02-01 00:00:00",
         "1.31",
         "1.0131000000000001",
         "0.050576304147787576"
        ],
        [
         "368",
         "2025-03-01 00:00:00",
         "0.56",
         "1.0056",
         "0.05477189641674851"
        ],
        [
         "369",
         "2025-04-01 00:00:00",
         "0.43",
         "1.0043",
         "0.0552972858849774"
        ]
       ],
       "shape": {
        "columns": 4,
        "rows": 5
       }
      },
      "text/html": [
       "<div>\n",
       "<style scoped>\n",
       "    .dataframe tbody tr th:only-of-type {\n",
       "        vertical-align: middle;\n",
       "    }\n",
       "\n",
       "    .dataframe tbody tr th {\n",
       "        vertical-align: top;\n",
       "    }\n",
       "\n",
       "    .dataframe thead th {\n",
       "        text-align: right;\n",
       "    }\n",
       "</style>\n",
       "<table border=\"1\" class=\"dataframe\">\n",
       "  <thead>\n",
       "    <tr style=\"text-align: right;\">\n",
       "      <th></th>\n",
       "      <th>Data</th>\n",
       "      <th>IPCA</th>\n",
       "      <th>Fator</th>\n",
       "      <th>IPCA 12 meses</th>\n",
       "    </tr>\n",
       "  </thead>\n",
       "  <tbody>\n",
       "    <tr>\n",
       "      <th>365</th>\n",
       "      <td>2024-12-01</td>\n",
       "      <td>0.52</td>\n",
       "      <td>1.0052</td>\n",
       "      <td>0.048313</td>\n",
       "    </tr>\n",
       "    <tr>\n",
       "      <th>366</th>\n",
       "      <td>2025-01-01</td>\n",
       "      <td>0.16</td>\n",
       "      <td>1.0016</td>\n",
       "      <td>0.045599</td>\n",
       "    </tr>\n",
       "    <tr>\n",
       "      <th>367</th>\n",
       "      <td>2025-02-01</td>\n",
       "      <td>1.31</td>\n",
       "      <td>1.0131</td>\n",
       "      <td>0.050576</td>\n",
       "    </tr>\n",
       "    <tr>\n",
       "      <th>368</th>\n",
       "      <td>2025-03-01</td>\n",
       "      <td>0.56</td>\n",
       "      <td>1.0056</td>\n",
       "      <td>0.054772</td>\n",
       "    </tr>\n",
       "    <tr>\n",
       "      <th>369</th>\n",
       "      <td>2025-04-01</td>\n",
       "      <td>0.43</td>\n",
       "      <td>1.0043</td>\n",
       "      <td>0.055297</td>\n",
       "    </tr>\n",
       "  </tbody>\n",
       "</table>\n",
       "</div>"
      ],
      "text/plain": [
       "          Data  IPCA   Fator  IPCA 12 meses\n",
       "365 2024-12-01  0.52  1.0052       0.048313\n",
       "366 2025-01-01  0.16  1.0016       0.045599\n",
       "367 2025-02-01  1.31  1.0131       0.050576\n",
       "368 2025-03-01  0.56  1.0056       0.054772\n",
       "369 2025-04-01  0.43  1.0043       0.055297"
      ]
     },
     "execution_count": 4,
     "metadata": {},
     "output_type": "execute_result"
    }
   ],
   "source": [
    "df.tail()"
   ]
  },
  {
   "cell_type": "code",
   "execution_count": 5,
   "id": "53bfb129",
   "metadata": {},
   "outputs": [
    {
     "data": {
      "text/plain": [
       "Index(['Data', 'IPCA', 'Fator', 'IPCA 12 meses'], dtype='object')"
      ]
     },
     "execution_count": 5,
     "metadata": {},
     "output_type": "execute_result"
    }
   ],
   "source": [
    "df.columns"
   ]
  },
  {
   "cell_type": "code",
   "execution_count": 6,
   "id": "68b09ac9",
   "metadata": {},
   "outputs": [],
   "source": [
    "df.drop(columns=[\"IPCA\", \"Fator\"], inplace=True)"
   ]
  },
  {
   "cell_type": "code",
   "execution_count": 7,
   "id": "bb4cc2b6",
   "metadata": {},
   "outputs": [
    {
     "data": {
      "application/vnd.microsoft.datawrangler.viewer.v0+json": {
       "columns": [
        {
         "name": "index",
         "rawType": "int64",
         "type": "integer"
        },
        {
         "name": "Data",
         "rawType": "datetime64[ns]",
         "type": "datetime"
        },
        {
         "name": "IPCA 12 meses",
         "rawType": "float64",
         "type": "float"
        }
       ],
       "conversionMethod": "pd.DataFrame",
       "ref": "5ee0e22d-96cb-4971-824a-78fc7c62b5ab",
       "rows": [
        [
         "0",
         "1994-07-01 00:00:00",
         null
        ],
        [
         "1",
         "1994-08-01 00:00:00",
         null
        ],
        [
         "2",
         "1994-09-01 00:00:00",
         null
        ],
        [
         "3",
         "1994-10-01 00:00:00",
         null
        ],
        [
         "4",
         "1994-11-01 00:00:00",
         null
        ],
        [
         "5",
         "1994-12-01 00:00:00",
         null
        ],
        [
         "6",
         "1995-01-01 00:00:00",
         null
        ],
        [
         "7",
         "1995-02-01 00:00:00",
         null
        ],
        [
         "8",
         "1995-03-01 00:00:00",
         null
        ],
        [
         "9",
         "1995-04-01 00:00:00",
         null
        ],
        [
         "10",
         "1995-05-01 00:00:00",
         null
        ],
        [
         "11",
         "1995-06-01 00:00:00",
         "0.33029429659637066"
        ],
        [
         "12",
         "1995-07-01 00:00:00",
         "0.2745125814264744"
        ],
        [
         "13",
         "1995-08-01 00:00:00",
         "0.2636267975481994"
        ],
        [
         "14",
         "1995-09-01 00:00:00",
         "0.2569060404254182"
        ],
        [
         "15",
         "1995-10-01 00:00:00",
         "0.2420857684617197"
        ],
        [
         "16",
         "1995-11-01 00:00:00",
         "0.2258967311138087"
        ],
        [
         "17",
         "1995-12-01 00:00:00",
         "0.2240888016116256"
        ],
        [
         "18",
         "1996-01-01 00:00:00",
         "0.21975574390680563"
        ],
        [
         "19",
         "1996-02-01 00:00:00",
         "0.21987648789254144"
        ]
       ],
       "shape": {
        "columns": 2,
        "rows": 20
       }
      },
      "text/html": [
       "<div>\n",
       "<style scoped>\n",
       "    .dataframe tbody tr th:only-of-type {\n",
       "        vertical-align: middle;\n",
       "    }\n",
       "\n",
       "    .dataframe tbody tr th {\n",
       "        vertical-align: top;\n",
       "    }\n",
       "\n",
       "    .dataframe thead th {\n",
       "        text-align: right;\n",
       "    }\n",
       "</style>\n",
       "<table border=\"1\" class=\"dataframe\">\n",
       "  <thead>\n",
       "    <tr style=\"text-align: right;\">\n",
       "      <th></th>\n",
       "      <th>Data</th>\n",
       "      <th>IPCA 12 meses</th>\n",
       "    </tr>\n",
       "  </thead>\n",
       "  <tbody>\n",
       "    <tr>\n",
       "      <th>0</th>\n",
       "      <td>1994-07-01</td>\n",
       "      <td>NaN</td>\n",
       "    </tr>\n",
       "    <tr>\n",
       "      <th>1</th>\n",
       "      <td>1994-08-01</td>\n",
       "      <td>NaN</td>\n",
       "    </tr>\n",
       "    <tr>\n",
       "      <th>2</th>\n",
       "      <td>1994-09-01</td>\n",
       "      <td>NaN</td>\n",
       "    </tr>\n",
       "    <tr>\n",
       "      <th>3</th>\n",
       "      <td>1994-10-01</td>\n",
       "      <td>NaN</td>\n",
       "    </tr>\n",
       "    <tr>\n",
       "      <th>4</th>\n",
       "      <td>1994-11-01</td>\n",
       "      <td>NaN</td>\n",
       "    </tr>\n",
       "    <tr>\n",
       "      <th>5</th>\n",
       "      <td>1994-12-01</td>\n",
       "      <td>NaN</td>\n",
       "    </tr>\n",
       "    <tr>\n",
       "      <th>6</th>\n",
       "      <td>1995-01-01</td>\n",
       "      <td>NaN</td>\n",
       "    </tr>\n",
       "    <tr>\n",
       "      <th>7</th>\n",
       "      <td>1995-02-01</td>\n",
       "      <td>NaN</td>\n",
       "    </tr>\n",
       "    <tr>\n",
       "      <th>8</th>\n",
       "      <td>1995-03-01</td>\n",
       "      <td>NaN</td>\n",
       "    </tr>\n",
       "    <tr>\n",
       "      <th>9</th>\n",
       "      <td>1995-04-01</td>\n",
       "      <td>NaN</td>\n",
       "    </tr>\n",
       "    <tr>\n",
       "      <th>10</th>\n",
       "      <td>1995-05-01</td>\n",
       "      <td>NaN</td>\n",
       "    </tr>\n",
       "    <tr>\n",
       "      <th>11</th>\n",
       "      <td>1995-06-01</td>\n",
       "      <td>0.330294</td>\n",
       "    </tr>\n",
       "    <tr>\n",
       "      <th>12</th>\n",
       "      <td>1995-07-01</td>\n",
       "      <td>0.274513</td>\n",
       "    </tr>\n",
       "    <tr>\n",
       "      <th>13</th>\n",
       "      <td>1995-08-01</td>\n",
       "      <td>0.263627</td>\n",
       "    </tr>\n",
       "    <tr>\n",
       "      <th>14</th>\n",
       "      <td>1995-09-01</td>\n",
       "      <td>0.256906</td>\n",
       "    </tr>\n",
       "    <tr>\n",
       "      <th>15</th>\n",
       "      <td>1995-10-01</td>\n",
       "      <td>0.242086</td>\n",
       "    </tr>\n",
       "    <tr>\n",
       "      <th>16</th>\n",
       "      <td>1995-11-01</td>\n",
       "      <td>0.225897</td>\n",
       "    </tr>\n",
       "    <tr>\n",
       "      <th>17</th>\n",
       "      <td>1995-12-01</td>\n",
       "      <td>0.224089</td>\n",
       "    </tr>\n",
       "    <tr>\n",
       "      <th>18</th>\n",
       "      <td>1996-01-01</td>\n",
       "      <td>0.219756</td>\n",
       "    </tr>\n",
       "    <tr>\n",
       "      <th>19</th>\n",
       "      <td>1996-02-01</td>\n",
       "      <td>0.219876</td>\n",
       "    </tr>\n",
       "  </tbody>\n",
       "</table>\n",
       "</div>"
      ],
      "text/plain": [
       "         Data  IPCA 12 meses\n",
       "0  1994-07-01            NaN\n",
       "1  1994-08-01            NaN\n",
       "2  1994-09-01            NaN\n",
       "3  1994-10-01            NaN\n",
       "4  1994-11-01            NaN\n",
       "5  1994-12-01            NaN\n",
       "6  1995-01-01            NaN\n",
       "7  1995-02-01            NaN\n",
       "8  1995-03-01            NaN\n",
       "9  1995-04-01            NaN\n",
       "10 1995-05-01            NaN\n",
       "11 1995-06-01       0.330294\n",
       "12 1995-07-01       0.274513\n",
       "13 1995-08-01       0.263627\n",
       "14 1995-09-01       0.256906\n",
       "15 1995-10-01       0.242086\n",
       "16 1995-11-01       0.225897\n",
       "17 1995-12-01       0.224089\n",
       "18 1996-01-01       0.219756\n",
       "19 1996-02-01       0.219876"
      ]
     },
     "execution_count": 7,
     "metadata": {},
     "output_type": "execute_result"
    }
   ],
   "source": [
    "df.head(20)"
   ]
  },
  {
   "cell_type": "code",
   "execution_count": 8,
   "id": "895f9f5a",
   "metadata": {},
   "outputs": [
    {
     "name": "stdout",
     "output_type": "stream",
     "text": [
      "<class 'pandas.core.frame.DataFrame'>\n",
      "RangeIndex: 370 entries, 0 to 369\n",
      "Data columns (total 2 columns):\n",
      " #   Column         Non-Null Count  Dtype         \n",
      "---  ------         --------------  -----         \n",
      " 0   Data           370 non-null    datetime64[ns]\n",
      " 1   IPCA 12 meses  359 non-null    float64       \n",
      "dtypes: datetime64[ns](1), float64(1)\n",
      "memory usage: 5.9 KB\n"
     ]
    }
   ],
   "source": [
    "df.info()"
   ]
  },
  {
   "cell_type": "code",
   "execution_count": 9,
   "id": "538a5048",
   "metadata": {},
   "outputs": [
    {
     "data": {
      "application/vnd.microsoft.datawrangler.viewer.v0+json": {
       "columns": [
        {
         "name": "index",
         "rawType": "int64",
         "type": "integer"
        },
        {
         "name": "Data",
         "rawType": "datetime64[ns]",
         "type": "datetime"
        },
        {
         "name": "IPCA 12 meses",
         "rawType": "float64",
         "type": "float"
        }
       ],
       "conversionMethod": "pd.DataFrame",
       "ref": "5b6d787f-e45b-49f5-b542-2cc18b17ea0d",
       "rows": [
        [
         "270",
         "2017-01-01 00:00:00",
         "0.053539544420169616"
        ],
        [
         "271",
         "2017-02-01 00:00:00",
         "0.04758793351512036"
        ],
        [
         "272",
         "2017-03-01 00:00:00",
         "0.04571034884885772"
        ],
        [
         "273",
         "2017-04-01 00:00:00",
         "0.04082530895263514"
        ],
        [
         "274",
         "2017-05-01 00:00:00",
         "0.035971291337952405"
        ]
       ],
       "shape": {
        "columns": 2,
        "rows": 5
       }
      },
      "text/html": [
       "<div>\n",
       "<style scoped>\n",
       "    .dataframe tbody tr th:only-of-type {\n",
       "        vertical-align: middle;\n",
       "    }\n",
       "\n",
       "    .dataframe tbody tr th {\n",
       "        vertical-align: top;\n",
       "    }\n",
       "\n",
       "    .dataframe thead th {\n",
       "        text-align: right;\n",
       "    }\n",
       "</style>\n",
       "<table border=\"1\" class=\"dataframe\">\n",
       "  <thead>\n",
       "    <tr style=\"text-align: right;\">\n",
       "      <th></th>\n",
       "      <th>Data</th>\n",
       "      <th>IPCA 12 meses</th>\n",
       "    </tr>\n",
       "  </thead>\n",
       "  <tbody>\n",
       "    <tr>\n",
       "      <th>270</th>\n",
       "      <td>2017-01-01</td>\n",
       "      <td>0.053540</td>\n",
       "    </tr>\n",
       "    <tr>\n",
       "      <th>271</th>\n",
       "      <td>2017-02-01</td>\n",
       "      <td>0.047588</td>\n",
       "    </tr>\n",
       "    <tr>\n",
       "      <th>272</th>\n",
       "      <td>2017-03-01</td>\n",
       "      <td>0.045710</td>\n",
       "    </tr>\n",
       "    <tr>\n",
       "      <th>273</th>\n",
       "      <td>2017-04-01</td>\n",
       "      <td>0.040825</td>\n",
       "    </tr>\n",
       "    <tr>\n",
       "      <th>274</th>\n",
       "      <td>2017-05-01</td>\n",
       "      <td>0.035971</td>\n",
       "    </tr>\n",
       "  </tbody>\n",
       "</table>\n",
       "</div>"
      ],
      "text/plain": [
       "          Data  IPCA 12 meses\n",
       "270 2017-01-01       0.053540\n",
       "271 2017-02-01       0.047588\n",
       "272 2017-03-01       0.045710\n",
       "273 2017-04-01       0.040825\n",
       "274 2017-05-01       0.035971"
      ]
     },
     "execution_count": 9,
     "metadata": {},
     "output_type": "execute_result"
    }
   ],
   "source": [
    "df = df[df[\"Data\"] >= \"2017-01-01\"]\n",
    "df.head()"
   ]
  },
  {
   "cell_type": "code",
   "execution_count": 10,
   "id": "4cd5c16e",
   "metadata": {},
   "outputs": [
    {
     "data": {
      "application/vnd.microsoft.datawrangler.viewer.v0+json": {
       "columns": [
        {
         "name": "index",
         "rawType": "int64",
         "type": "integer"
        },
        {
         "name": "Data",
         "rawType": "datetime64[ns]",
         "type": "datetime"
        }
       ],
       "conversionMethod": "pd.DataFrame",
       "ref": "cc5ea04b-ae4e-4591-a9f6-5dcf5f76107b",
       "rows": [
        [
         "0",
         "2017-01-01 00:00:00"
        ],
        [
         "1",
         "2017-01-02 00:00:00"
        ],
        [
         "2",
         "2017-01-03 00:00:00"
        ],
        [
         "3",
         "2017-01-04 00:00:00"
        ],
        [
         "4",
         "2017-01-05 00:00:00"
        ]
       ],
       "shape": {
        "columns": 1,
        "rows": 5
       }
      },
      "text/html": [
       "<div>\n",
       "<style scoped>\n",
       "    .dataframe tbody tr th:only-of-type {\n",
       "        vertical-align: middle;\n",
       "    }\n",
       "\n",
       "    .dataframe tbody tr th {\n",
       "        vertical-align: top;\n",
       "    }\n",
       "\n",
       "    .dataframe thead th {\n",
       "        text-align: right;\n",
       "    }\n",
       "</style>\n",
       "<table border=\"1\" class=\"dataframe\">\n",
       "  <thead>\n",
       "    <tr style=\"text-align: right;\">\n",
       "      <th></th>\n",
       "      <th>Data</th>\n",
       "    </tr>\n",
       "  </thead>\n",
       "  <tbody>\n",
       "    <tr>\n",
       "      <th>0</th>\n",
       "      <td>2017-01-01</td>\n",
       "    </tr>\n",
       "    <tr>\n",
       "      <th>1</th>\n",
       "      <td>2017-01-02</td>\n",
       "    </tr>\n",
       "    <tr>\n",
       "      <th>2</th>\n",
       "      <td>2017-01-03</td>\n",
       "    </tr>\n",
       "    <tr>\n",
       "      <th>3</th>\n",
       "      <td>2017-01-04</td>\n",
       "    </tr>\n",
       "    <tr>\n",
       "      <th>4</th>\n",
       "      <td>2017-01-05</td>\n",
       "    </tr>\n",
       "  </tbody>\n",
       "</table>\n",
       "</div>"
      ],
      "text/plain": [
       "        Data\n",
       "0 2017-01-01\n",
       "1 2017-01-02\n",
       "2 2017-01-03\n",
       "3 2017-01-04\n",
       "4 2017-01-05"
      ]
     },
     "execution_count": 10,
     "metadata": {},
     "output_type": "execute_result"
    }
   ],
   "source": [
    "# Cria uma sequência diária entre o mínimo e máximo da coluna \"Data\"\n",
    "daily_index = pd.date_range(start=df[\"Data\"].min(), end=df[\"Data\"].max(), freq=\"D\")\n",
    "daily_df = pd.DataFrame({\"Data\": daily_index})\n",
    "daily_df.head()"
   ]
  },
  {
   "cell_type": "code",
   "execution_count": 11,
   "id": "de4ce89d",
   "metadata": {},
   "outputs": [],
   "source": [
    "df[\"AnoMes\"] = df[\"Data\"].dt.to_period(\"M\")\n",
    "daily_df[\"AnoMes\"] = daily_df[\"Data\"].dt.to_period(\"M\")\n"
   ]
  },
  {
   "cell_type": "code",
   "execution_count": 12,
   "id": "32fa02b2",
   "metadata": {},
   "outputs": [],
   "source": [
    "# Merge com base em AnoMes\n",
    "merged = daily_df.merge(df[[\"AnoMes\", \"IPCA 12 meses\"]], on=\"AnoMes\", how=\"left\")\n",
    "merged.drop(columns=[\"AnoMes\"], inplace=True)\n"
   ]
  },
  {
   "cell_type": "code",
   "execution_count": 13,
   "id": "bdb9f9a7",
   "metadata": {},
   "outputs": [
    {
     "data": {
      "application/vnd.microsoft.datawrangler.viewer.v0+json": {
       "columns": [
        {
         "name": "index",
         "rawType": "int64",
         "type": "integer"
        },
        {
         "name": "Data",
         "rawType": "datetime64[ns]",
         "type": "datetime"
        },
        {
         "name": "IPCA 12 meses",
         "rawType": "float64",
         "type": "float"
        }
       ],
       "conversionMethod": "pd.DataFrame",
       "ref": "05f589dd-e8f4-43fe-ad9b-f7fe305c82f4",
       "rows": [
        [
         "0",
         "2017-01-01 00:00:00",
         "0.053539544420169616"
        ],
        [
         "1",
         "2017-01-02 00:00:00",
         "0.053539544420169616"
        ],
        [
         "2",
         "2017-01-03 00:00:00",
         "0.053539544420169616"
        ],
        [
         "3",
         "2017-01-04 00:00:00",
         "0.053539544420169616"
        ],
        [
         "4",
         "2017-01-05 00:00:00",
         "0.053539544420169616"
        ],
        [
         "5",
         "2017-01-06 00:00:00",
         "0.053539544420169616"
        ],
        [
         "6",
         "2017-01-07 00:00:00",
         "0.053539544420169616"
        ],
        [
         "7",
         "2017-01-08 00:00:00",
         "0.053539544420169616"
        ],
        [
         "8",
         "2017-01-09 00:00:00",
         "0.053539544420169616"
        ],
        [
         "9",
         "2017-01-10 00:00:00",
         "0.053539544420169616"
        ],
        [
         "10",
         "2017-01-11 00:00:00",
         "0.053539544420169616"
        ],
        [
         "11",
         "2017-01-12 00:00:00",
         "0.053539544420169616"
        ],
        [
         "12",
         "2017-01-13 00:00:00",
         "0.053539544420169616"
        ],
        [
         "13",
         "2017-01-14 00:00:00",
         "0.053539544420169616"
        ],
        [
         "14",
         "2017-01-15 00:00:00",
         "0.053539544420169616"
        ],
        [
         "15",
         "2017-01-16 00:00:00",
         "0.053539544420169616"
        ],
        [
         "16",
         "2017-01-17 00:00:00",
         "0.053539544420169616"
        ],
        [
         "17",
         "2017-01-18 00:00:00",
         "0.053539544420169616"
        ],
        [
         "18",
         "2017-01-19 00:00:00",
         "0.053539544420169616"
        ],
        [
         "19",
         "2017-01-20 00:00:00",
         "0.053539544420169616"
        ],
        [
         "20",
         "2017-01-21 00:00:00",
         "0.053539544420169616"
        ],
        [
         "21",
         "2017-01-22 00:00:00",
         "0.053539544420169616"
        ],
        [
         "22",
         "2017-01-23 00:00:00",
         "0.053539544420169616"
        ],
        [
         "23",
         "2017-01-24 00:00:00",
         "0.053539544420169616"
        ],
        [
         "24",
         "2017-01-25 00:00:00",
         "0.053539544420169616"
        ],
        [
         "25",
         "2017-01-26 00:00:00",
         "0.053539544420169616"
        ],
        [
         "26",
         "2017-01-27 00:00:00",
         "0.053539544420169616"
        ],
        [
         "27",
         "2017-01-28 00:00:00",
         "0.053539544420169616"
        ],
        [
         "28",
         "2017-01-29 00:00:00",
         "0.053539544420169616"
        ],
        [
         "29",
         "2017-01-30 00:00:00",
         "0.053539544420169616"
        ],
        [
         "30",
         "2017-01-31 00:00:00",
         "0.053539544420169616"
        ],
        [
         "31",
         "2017-02-01 00:00:00",
         "0.04758793351512036"
        ],
        [
         "32",
         "2017-02-02 00:00:00",
         "0.04758793351512036"
        ],
        [
         "33",
         "2017-02-03 00:00:00",
         "0.04758793351512036"
        ],
        [
         "34",
         "2017-02-04 00:00:00",
         "0.04758793351512036"
        ],
        [
         "35",
         "2017-02-05 00:00:00",
         "0.04758793351512036"
        ],
        [
         "36",
         "2017-02-06 00:00:00",
         "0.04758793351512036"
        ],
        [
         "37",
         "2017-02-07 00:00:00",
         "0.04758793351512036"
        ],
        [
         "38",
         "2017-02-08 00:00:00",
         "0.04758793351512036"
        ],
        [
         "39",
         "2017-02-09 00:00:00",
         "0.04758793351512036"
        ],
        [
         "40",
         "2017-02-10 00:00:00",
         "0.04758793351512036"
        ],
        [
         "41",
         "2017-02-11 00:00:00",
         "0.04758793351512036"
        ],
        [
         "42",
         "2017-02-12 00:00:00",
         "0.04758793351512036"
        ],
        [
         "43",
         "2017-02-13 00:00:00",
         "0.04758793351512036"
        ],
        [
         "44",
         "2017-02-14 00:00:00",
         "0.04758793351512036"
        ],
        [
         "45",
         "2017-02-15 00:00:00",
         "0.04758793351512036"
        ],
        [
         "46",
         "2017-02-16 00:00:00",
         "0.04758793351512036"
        ],
        [
         "47",
         "2017-02-17 00:00:00",
         "0.04758793351512036"
        ],
        [
         "48",
         "2017-02-18 00:00:00",
         "0.04758793351512036"
        ],
        [
         "49",
         "2017-02-19 00:00:00",
         "0.04758793351512036"
        ]
       ],
       "shape": {
        "columns": 2,
        "rows": 3013
       }
      },
      "text/html": [
       "<div>\n",
       "<style scoped>\n",
       "    .dataframe tbody tr th:only-of-type {\n",
       "        vertical-align: middle;\n",
       "    }\n",
       "\n",
       "    .dataframe tbody tr th {\n",
       "        vertical-align: top;\n",
       "    }\n",
       "\n",
       "    .dataframe thead th {\n",
       "        text-align: right;\n",
       "    }\n",
       "</style>\n",
       "<table border=\"1\" class=\"dataframe\">\n",
       "  <thead>\n",
       "    <tr style=\"text-align: right;\">\n",
       "      <th></th>\n",
       "      <th>Data</th>\n",
       "      <th>IPCA 12 meses</th>\n",
       "    </tr>\n",
       "  </thead>\n",
       "  <tbody>\n",
       "    <tr>\n",
       "      <th>0</th>\n",
       "      <td>2017-01-01</td>\n",
       "      <td>0.053540</td>\n",
       "    </tr>\n",
       "    <tr>\n",
       "      <th>1</th>\n",
       "      <td>2017-01-02</td>\n",
       "      <td>0.053540</td>\n",
       "    </tr>\n",
       "    <tr>\n",
       "      <th>2</th>\n",
       "      <td>2017-01-03</td>\n",
       "      <td>0.053540</td>\n",
       "    </tr>\n",
       "    <tr>\n",
       "      <th>3</th>\n",
       "      <td>2017-01-04</td>\n",
       "      <td>0.053540</td>\n",
       "    </tr>\n",
       "    <tr>\n",
       "      <th>4</th>\n",
       "      <td>2017-01-05</td>\n",
       "      <td>0.053540</td>\n",
       "    </tr>\n",
       "    <tr>\n",
       "      <th>...</th>\n",
       "      <td>...</td>\n",
       "      <td>...</td>\n",
       "    </tr>\n",
       "    <tr>\n",
       "      <th>3008</th>\n",
       "      <td>2025-03-28</td>\n",
       "      <td>0.054772</td>\n",
       "    </tr>\n",
       "    <tr>\n",
       "      <th>3009</th>\n",
       "      <td>2025-03-29</td>\n",
       "      <td>0.054772</td>\n",
       "    </tr>\n",
       "    <tr>\n",
       "      <th>3010</th>\n",
       "      <td>2025-03-30</td>\n",
       "      <td>0.054772</td>\n",
       "    </tr>\n",
       "    <tr>\n",
       "      <th>3011</th>\n",
       "      <td>2025-03-31</td>\n",
       "      <td>0.054772</td>\n",
       "    </tr>\n",
       "    <tr>\n",
       "      <th>3012</th>\n",
       "      <td>2025-04-01</td>\n",
       "      <td>0.055297</td>\n",
       "    </tr>\n",
       "  </tbody>\n",
       "</table>\n",
       "<p>3013 rows × 2 columns</p>\n",
       "</div>"
      ],
      "text/plain": [
       "           Data  IPCA 12 meses\n",
       "0    2017-01-01       0.053540\n",
       "1    2017-01-02       0.053540\n",
       "2    2017-01-03       0.053540\n",
       "3    2017-01-04       0.053540\n",
       "4    2017-01-05       0.053540\n",
       "...         ...            ...\n",
       "3008 2025-03-28       0.054772\n",
       "3009 2025-03-29       0.054772\n",
       "3010 2025-03-30       0.054772\n",
       "3011 2025-03-31       0.054772\n",
       "3012 2025-04-01       0.055297\n",
       "\n",
       "[3013 rows x 2 columns]"
      ]
     },
     "execution_count": 13,
     "metadata": {},
     "output_type": "execute_result"
    }
   ],
   "source": [
    "merged"
   ]
  },
  {
   "cell_type": "code",
   "execution_count": null,
   "id": "06c27c53",
   "metadata": {},
   "outputs": [],
   "source": []
  }
 ],
 "metadata": {
  "kernelspec": {
   "display_name": "venv",
   "language": "python",
   "name": "python3"
  },
  "language_info": {
   "codemirror_mode": {
    "name": "ipython",
    "version": 3
   },
   "file_extension": ".py",
   "mimetype": "text/x-python",
   "name": "python",
   "nbconvert_exporter": "python",
   "pygments_lexer": "ipython3",
   "version": "3.12.10"
  }
 },
 "nbformat": 4,
 "nbformat_minor": 5
}
