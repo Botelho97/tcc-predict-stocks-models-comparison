{
 "cells": [
  {
   "cell_type": "code",
   "execution_count": 1,
   "id": "1b89a48c",
   "metadata": {},
   "outputs": [
    {
     "name": "stderr",
     "output_type": "stream",
     "text": [
      "c:\\Users\\felip\\Felipe\\Projetos\\TCC\\venv\\Lib\\site-packages\\tqdm\\auto.py:21: TqdmWarning: IProgress not found. Please update jupyter and ipywidgets. See https://ipywidgets.readthedocs.io/en/stable/user_install.html\n",
      "  from .autonotebook import tqdm as notebook_tqdm\n",
      "Importing plotly failed. Interactive plots will not work.\n"
     ]
    }
   ],
   "source": [
    "from src.preprocessing import final_df\n",
    "from src.models_functions import ts_pipeline, ml_pipeline, custom_train_test, lstm, prophet_predict\n",
    "import pandas as pd\n",
    "import matplotlib.pyplot as plt\n",
    "from matplotlib import rcParams\n",
    "import warnings\n",
    "\n",
    "warnings.filterwarnings('ignore')\n",
    "rcParams[\"figure.figsize\"] = 18, 6"
   ]
  },
  {
   "cell_type": "code",
   "execution_count": 2,
   "id": "6485d4df",
   "metadata": {},
   "outputs": [],
   "source": [
    "# Selecionar a ação\n",
    "\n",
    "stock = 'bbas3'\n",
    "stock = stock.upper()"
   ]
  },
  {
   "cell_type": "code",
   "execution_count": 3,
   "id": "dba8bdc7",
   "metadata": {},
   "outputs": [],
   "source": [
    "# Criar Objetos DataFrame e Series\n",
    "\n",
    "df = final_df(stock)\n",
    "\n",
    "series = pd.Series(df[f\"Close {stock}\"])\n",
    "\n",
    "y_train, y_test = custom_train_test(series)"
   ]
  },
  {
   "cell_type": "code",
   "execution_count": 4,
   "id": "77d984dc",
   "metadata": {},
   "outputs": [
    {
     "name": "stdout",
     "output_type": "stream",
     "text": [
      "Performing stepwise search to minimize aic\n",
      " ARIMA(2,1,2)(0,0,0)[0] intercept   : AIC=961.022, Time=1.70 sec\n",
      " ARIMA(0,1,0)(0,0,0)[0] intercept   : AIC=972.063, Time=0.14 sec\n",
      " ARIMA(1,1,0)(0,0,0)[0] intercept   : AIC=969.129, Time=0.11 sec\n",
      " ARIMA(0,1,1)(0,0,0)[0] intercept   : AIC=969.225, Time=0.18 sec\n",
      " ARIMA(0,1,0)(0,0,0)[0]             : AIC=971.725, Time=0.16 sec\n",
      " ARIMA(1,1,2)(0,0,0)[0] intercept   : AIC=968.412, Time=0.91 sec\n",
      " ARIMA(2,1,1)(0,0,0)[0] intercept   : AIC=973.004, Time=0.29 sec\n",
      " ARIMA(3,1,2)(0,0,0)[0] intercept   : AIC=963.008, Time=2.04 sec\n",
      " ARIMA(2,1,3)(0,0,0)[0] intercept   : AIC=963.006, Time=2.36 sec\n",
      " ARIMA(1,1,1)(0,0,0)[0] intercept   : AIC=971.068, Time=0.17 sec\n",
      " ARIMA(1,1,3)(0,0,0)[0] intercept   : AIC=966.702, Time=1.21 sec\n",
      " ARIMA(3,1,1)(0,0,0)[0] intercept   : AIC=965.558, Time=1.36 sec\n",
      " ARIMA(3,1,3)(0,0,0)[0] intercept   : AIC=964.912, Time=2.64 sec\n",
      " ARIMA(2,1,2)(0,0,0)[0]             : AIC=960.805, Time=0.95 sec\n",
      " ARIMA(1,1,2)(0,0,0)[0]             : AIC=968.297, Time=0.43 sec\n",
      " ARIMA(2,1,1)(0,0,0)[0]             : AIC=972.728, Time=0.41 sec\n",
      " ARIMA(3,1,2)(0,0,0)[0]             : AIC=962.798, Time=1.17 sec\n",
      " ARIMA(2,1,3)(0,0,0)[0]             : AIC=962.799, Time=1.10 sec\n",
      " ARIMA(1,1,1)(0,0,0)[0]             : AIC=970.890, Time=0.20 sec\n",
      " ARIMA(1,1,3)(0,0,0)[0]             : AIC=966.424, Time=0.54 sec\n",
      " ARIMA(3,1,1)(0,0,0)[0]             : AIC=965.281, Time=0.52 sec\n",
      " ARIMA(3,1,3)(0,0,0)[0]             : AIC=964.193, Time=1.26 sec\n",
      "\n",
      "Best model:  ARIMA(2,1,2)(0,0,0)[0]          \n",
      "Total fit time: 19.855 seconds\n",
      "Performing stepwise search to minimize aic\n",
      " ARIMA(2,1,2)(1,0,1)[5] intercept   : AIC=964.995, Time=3.14 sec\n",
      " ARIMA(0,1,0)(0,0,0)[5] intercept   : AIC=972.063, Time=0.14 sec\n",
      " ARIMA(1,1,0)(1,0,0)[5] intercept   : AIC=969.870, Time=0.34 sec\n",
      " ARIMA(0,1,1)(0,0,1)[5] intercept   : AIC=969.996, Time=0.28 sec\n",
      " ARIMA(0,1,0)(0,0,0)[5]             : AIC=971.725, Time=0.16 sec\n",
      " ARIMA(2,1,2)(0,0,1)[5] intercept   : AIC=962.474, Time=2.72 sec\n",
      " ARIMA(2,1,2)(0,0,0)[5] intercept   : AIC=961.022, Time=1.70 sec\n",
      " ARIMA(2,1,2)(1,0,0)[5] intercept   : AIC=962.426, Time=2.55 sec\n",
      " ARIMA(1,1,2)(0,0,0)[5] intercept   : AIC=968.412, Time=0.91 sec\n",
      " ARIMA(2,1,1)(0,0,0)[5] intercept   : AIC=973.004, Time=0.29 sec\n",
      " ARIMA(3,1,2)(0,0,0)[5] intercept   : AIC=963.008, Time=2.03 sec\n",
      " ARIMA(2,1,3)(0,0,0)[5] intercept   : AIC=963.006, Time=2.31 sec\n",
      " ARIMA(1,1,1)(0,0,0)[5] intercept   : AIC=971.068, Time=0.17 sec\n",
      " ARIMA(1,1,3)(0,0,0)[5] intercept   : AIC=966.702, Time=1.22 sec\n",
      " ARIMA(3,1,1)(0,0,0)[5] intercept   : AIC=965.558, Time=1.37 sec\n",
      " ARIMA(3,1,3)(0,0,0)[5] intercept   : AIC=964.912, Time=2.58 sec\n",
      " ARIMA(2,1,2)(0,0,0)[5]             : AIC=960.805, Time=0.95 sec\n",
      " ARIMA(2,1,2)(1,0,0)[5]             : AIC=962.290, Time=1.51 sec\n",
      " ARIMA(2,1,2)(0,0,1)[5]             : AIC=962.333, Time=1.33 sec\n",
      " ARIMA(2,1,2)(1,0,1)[5]             : AIC=964.800, Time=1.47 sec\n",
      " ARIMA(1,1,2)(0,0,0)[5]             : AIC=968.297, Time=0.43 sec\n",
      " ARIMA(2,1,1)(0,0,0)[5]             : AIC=972.728, Time=0.41 sec\n",
      " ARIMA(3,1,2)(0,0,0)[5]             : AIC=962.798, Time=1.15 sec\n",
      " ARIMA(2,1,3)(0,0,0)[5]             : AIC=962.799, Time=1.13 sec\n",
      " ARIMA(1,1,1)(0,0,0)[5]             : AIC=970.890, Time=0.21 sec\n",
      " ARIMA(1,1,3)(0,0,0)[5]             : AIC=966.424, Time=0.55 sec\n",
      " ARIMA(3,1,1)(0,0,0)[5]             : AIC=965.281, Time=0.50 sec\n",
      " ARIMA(3,1,3)(0,0,0)[5]             : AIC=964.193, Time=1.28 sec\n",
      "\n",
      "Best model:  ARIMA(2,1,2)(0,0,0)[5]          \n",
      "Total fit time: 32.830 seconds\n"
     ]
    }
   ],
   "source": [
    "ts_results = ts_pipeline(series)"
   ]
  },
  {
   "cell_type": "code",
   "execution_count": 5,
   "id": "97786fb1",
   "metadata": {},
   "outputs": [
    {
     "name": "stderr",
     "output_type": "stream",
     "text": [
      "16:28:11 - cmdstanpy - INFO - Chain [1] start processing\n",
      "16:28:11 - cmdstanpy - INFO - Chain [1] done processing\n"
     ]
    }
   ],
   "source": [
    "prophet_dict = prophet_predict(series)"
   ]
  },
  {
   "cell_type": "code",
   "execution_count": 6,
   "id": "32bc03d7",
   "metadata": {},
   "outputs": [
    {
     "name": "stdout",
     "output_type": "stream",
     "text": [
      "Treinando DecisionTree...\n",
      "Treinando RandomForest...\n",
      "Treinando XGBoost...\n",
      "Treinando LightGBM...\n",
      "[LightGBM] [Warning] Found whitespace in feature_names, replace with underlines\n",
      "[LightGBM] [Info] Auto-choosing col-wise multi-threading, the overhead of testing was 0.000159 seconds.\n",
      "You can set `force_col_wise=true` to remove the overhead.\n",
      "[LightGBM] [Info] Total Bins 2163\n",
      "[LightGBM] [Info] Number of data points in the train set: 1865, number of used features: 10\n",
      "[LightGBM] [Info] Start training from score 14.846001\n"
     ]
    }
   ],
   "source": [
    "ml_results = ml_pipeline(df, stock)"
   ]
  },
  {
   "cell_type": "code",
   "execution_count": 7,
   "id": "e4640bca",
   "metadata": {},
   "outputs": [
    {
     "name": "stdout",
     "output_type": "stream",
     "text": [
      "Epoch 1/50\n",
      "\u001b[1m59/59\u001b[0m \u001b[32m━━━━━━━━━━━━━━━━━━━━\u001b[0m\u001b[37m\u001b[0m \u001b[1m2s\u001b[0m 6ms/step - loss: 0.1350 - val_loss: 0.2913\n",
      "Epoch 2/50\n",
      "\u001b[1m59/59\u001b[0m \u001b[32m━━━━━━━━━━━━━━━━━━━━\u001b[0m\u001b[37m\u001b[0m \u001b[1m0s\u001b[0m 2ms/step - loss: 0.0366 - val_loss: 0.0981\n",
      "Epoch 3/50\n",
      "\u001b[1m59/59\u001b[0m \u001b[32m━━━━━━━━━━━━━━━━━━━━\u001b[0m\u001b[37m\u001b[0m \u001b[1m0s\u001b[0m 2ms/step - loss: 0.0213 - val_loss: 0.0587\n",
      "Epoch 4/50\n",
      "\u001b[1m59/59\u001b[0m \u001b[32m━━━━━━━━━━━━━━━━━━━━\u001b[0m\u001b[37m\u001b[0m \u001b[1m0s\u001b[0m 2ms/step - loss: 0.0130 - val_loss: 0.0272\n",
      "Epoch 5/50\n",
      "\u001b[1m59/59\u001b[0m \u001b[32m━━━━━━━━━━━━━━━━━━━━\u001b[0m\u001b[37m\u001b[0m \u001b[1m0s\u001b[0m 2ms/step - loss: 0.0057 - val_loss: 0.0057\n",
      "Epoch 6/50\n",
      "\u001b[1m59/59\u001b[0m \u001b[32m━━━━━━━━━━━━━━━━━━━━\u001b[0m\u001b[37m\u001b[0m \u001b[1m0s\u001b[0m 2ms/step - loss: 0.0018 - val_loss: 5.2299e-04\n",
      "Epoch 7/50\n",
      "\u001b[1m59/59\u001b[0m \u001b[32m━━━━━━━━━━━━━━━━━━━━\u001b[0m\u001b[37m\u001b[0m \u001b[1m0s\u001b[0m 2ms/step - loss: 4.9027e-04 - val_loss: 3.0070e-04\n",
      "Epoch 8/50\n",
      "\u001b[1m59/59\u001b[0m \u001b[32m━━━━━━━━━━━━━━━━━━━━\u001b[0m\u001b[37m\u001b[0m \u001b[1m0s\u001b[0m 2ms/step - loss: 3.4491e-04 - val_loss: 5.0972e-04\n",
      "Epoch 9/50\n",
      "\u001b[1m59/59\u001b[0m \u001b[32m━━━━━━━━━━━━━━━━━━━━\u001b[0m\u001b[37m\u001b[0m \u001b[1m0s\u001b[0m 2ms/step - loss: 3.6335e-04 - val_loss: 4.4645e-04\n",
      "Epoch 10/50\n",
      "\u001b[1m59/59\u001b[0m \u001b[32m━━━━━━━━━━━━━━━━━━━━\u001b[0m\u001b[37m\u001b[0m \u001b[1m0s\u001b[0m 2ms/step - loss: 3.2797e-04 - val_loss: 6.0073e-04\n",
      "Epoch 11/50\n",
      "\u001b[1m59/59\u001b[0m \u001b[32m━━━━━━━━━━━━━━━━━━━━\u001b[0m\u001b[37m\u001b[0m \u001b[1m0s\u001b[0m 2ms/step - loss: 3.3447e-04 - val_loss: 5.6081e-04\n",
      "Epoch 12/50\n",
      "\u001b[1m59/59\u001b[0m \u001b[32m━━━━━━━━━━━━━━━━━━━━\u001b[0m\u001b[37m\u001b[0m \u001b[1m0s\u001b[0m 2ms/step - loss: 3.0036e-04 - val_loss: 4.3594e-04\n",
      "Epoch 13/50\n",
      "\u001b[1m59/59\u001b[0m \u001b[32m━━━━━━━━━━━━━━━━━━━━\u001b[0m\u001b[37m\u001b[0m \u001b[1m0s\u001b[0m 2ms/step - loss: 3.2759e-04 - val_loss: 4.8519e-04\n",
      "Epoch 14/50\n",
      "\u001b[1m59/59\u001b[0m \u001b[32m━━━━━━━━━━━━━━━━━━━━\u001b[0m\u001b[37m\u001b[0m \u001b[1m0s\u001b[0m 2ms/step - loss: 3.0213e-04 - val_loss: 4.9176e-04\n",
      "Epoch 15/50\n",
      "\u001b[1m59/59\u001b[0m \u001b[32m━━━━━━━━━━━━━━━━━━━━\u001b[0m\u001b[37m\u001b[0m \u001b[1m0s\u001b[0m 2ms/step - loss: 2.9800e-04 - val_loss: 4.9457e-04\n",
      "Epoch 16/50\n",
      "\u001b[1m59/59\u001b[0m \u001b[32m━━━━━━━━━━━━━━━━━━━━\u001b[0m\u001b[37m\u001b[0m \u001b[1m0s\u001b[0m 2ms/step - loss: 3.1061e-04 - val_loss: 4.3157e-04\n",
      "Epoch 17/50\n",
      "\u001b[1m59/59\u001b[0m \u001b[32m━━━━━━━━━━━━━━━━━━━━\u001b[0m\u001b[37m\u001b[0m \u001b[1m0s\u001b[0m 3ms/step - loss: 2.9395e-04 - val_loss: 4.5503e-04\n",
      "Epoch 18/50\n",
      "\u001b[1m59/59\u001b[0m \u001b[32m━━━━━━━━━━━━━━━━━━━━\u001b[0m\u001b[37m\u001b[0m \u001b[1m0s\u001b[0m 2ms/step - loss: 3.1698e-04 - val_loss: 4.7705e-04\n",
      "Epoch 19/50\n",
      "\u001b[1m59/59\u001b[0m \u001b[32m━━━━━━━━━━━━━━━━━━━━\u001b[0m\u001b[37m\u001b[0m \u001b[1m0s\u001b[0m 3ms/step - loss: 3.2286e-04 - val_loss: 4.7213e-04\n",
      "Epoch 20/50\n",
      "\u001b[1m59/59\u001b[0m \u001b[32m━━━━━━━━━━━━━━━━━━━━\u001b[0m\u001b[37m\u001b[0m \u001b[1m0s\u001b[0m 3ms/step - loss: 3.0216e-04 - val_loss: 3.9612e-04\n",
      "Epoch 21/50\n",
      "\u001b[1m59/59\u001b[0m \u001b[32m━━━━━━━━━━━━━━━━━━━━\u001b[0m\u001b[37m\u001b[0m \u001b[1m0s\u001b[0m 3ms/step - loss: 2.7055e-04 - val_loss: 4.3126e-04\n",
      "Epoch 22/50\n",
      "\u001b[1m59/59\u001b[0m \u001b[32m━━━━━━━━━━━━━━━━━━━━\u001b[0m\u001b[37m\u001b[0m \u001b[1m0s\u001b[0m 3ms/step - loss: 2.8610e-04 - val_loss: 3.1468e-04\n",
      "Epoch 23/50\n",
      "\u001b[1m59/59\u001b[0m \u001b[32m━━━━━━━━━━━━━━━━━━━━\u001b[0m\u001b[37m\u001b[0m \u001b[1m0s\u001b[0m 2ms/step - loss: 2.8329e-04 - val_loss: 3.3518e-04\n",
      "Epoch 24/50\n",
      "\u001b[1m59/59\u001b[0m \u001b[32m━━━━━━━━━━━━━━━━━━━━\u001b[0m\u001b[37m\u001b[0m \u001b[1m0s\u001b[0m 3ms/step - loss: 2.6878e-04 - val_loss: 3.8937e-04\n",
      "Epoch 25/50\n",
      "\u001b[1m59/59\u001b[0m \u001b[32m━━━━━━━━━━━━━━━━━━━━\u001b[0m\u001b[37m\u001b[0m \u001b[1m0s\u001b[0m 3ms/step - loss: 2.5953e-04 - val_loss: 3.0560e-04\n",
      "Epoch 26/50\n",
      "\u001b[1m59/59\u001b[0m \u001b[32m━━━━━━━━━━━━━━━━━━━━\u001b[0m\u001b[37m\u001b[0m \u001b[1m0s\u001b[0m 2ms/step - loss: 2.7086e-04 - val_loss: 3.5429e-04\n",
      "Epoch 27/50\n",
      "\u001b[1m59/59\u001b[0m \u001b[32m━━━━━━━━━━━━━━━━━━━━\u001b[0m\u001b[37m\u001b[0m \u001b[1m0s\u001b[0m 3ms/step - loss: 2.7755e-04 - val_loss: 2.7759e-04\n",
      "Epoch 28/50\n",
      "\u001b[1m59/59\u001b[0m \u001b[32m━━━━━━━━━━━━━━━━━━━━\u001b[0m\u001b[37m\u001b[0m \u001b[1m0s\u001b[0m 3ms/step - loss: 2.7654e-04 - val_loss: 2.8958e-04\n",
      "Epoch 29/50\n",
      "\u001b[1m59/59\u001b[0m \u001b[32m━━━━━━━━━━━━━━━━━━━━\u001b[0m\u001b[37m\u001b[0m \u001b[1m0s\u001b[0m 2ms/step - loss: 2.5848e-04 - val_loss: 4.0292e-04\n",
      "Epoch 30/50\n",
      "\u001b[1m59/59\u001b[0m \u001b[32m━━━━━━━━━━━━━━━━━━━━\u001b[0m\u001b[37m\u001b[0m \u001b[1m0s\u001b[0m 3ms/step - loss: 2.6112e-04 - val_loss: 3.5101e-04\n",
      "Epoch 31/50\n",
      "\u001b[1m59/59\u001b[0m \u001b[32m━━━━━━━━━━━━━━━━━━━━\u001b[0m\u001b[37m\u001b[0m \u001b[1m0s\u001b[0m 3ms/step - loss: 2.3020e-04 - val_loss: 2.7740e-04\n",
      "Epoch 32/50\n",
      "\u001b[1m59/59\u001b[0m \u001b[32m━━━━━━━━━━━━━━━━━━━━\u001b[0m\u001b[37m\u001b[0m \u001b[1m0s\u001b[0m 3ms/step - loss: 2.4208e-04 - val_loss: 2.2921e-04\n",
      "Epoch 33/50\n",
      "\u001b[1m59/59\u001b[0m \u001b[32m━━━━━━━━━━━━━━━━━━━━\u001b[0m\u001b[37m\u001b[0m \u001b[1m0s\u001b[0m 3ms/step - loss: 2.6269e-04 - val_loss: 2.9337e-04\n",
      "Epoch 34/50\n",
      "\u001b[1m59/59\u001b[0m \u001b[32m━━━━━━━━━━━━━━━━━━━━\u001b[0m\u001b[37m\u001b[0m \u001b[1m0s\u001b[0m 3ms/step - loss: 2.4446e-04 - val_loss: 2.8467e-04\n",
      "Epoch 35/50\n",
      "\u001b[1m59/59\u001b[0m \u001b[32m━━━━━━━━━━━━━━━━━━━━\u001b[0m\u001b[37m\u001b[0m \u001b[1m0s\u001b[0m 3ms/step - loss: 2.2806e-04 - val_loss: 2.2313e-04\n",
      "Epoch 36/50\n",
      "\u001b[1m59/59\u001b[0m \u001b[32m━━━━━━━━━━━━━━━━━━━━\u001b[0m\u001b[37m\u001b[0m \u001b[1m0s\u001b[0m 2ms/step - loss: 2.4017e-04 - val_loss: 2.1938e-04\n",
      "Epoch 37/50\n",
      "\u001b[1m59/59\u001b[0m \u001b[32m━━━━━━━━━━━━━━━━━━━━\u001b[0m\u001b[37m\u001b[0m \u001b[1m0s\u001b[0m 3ms/step - loss: 2.6232e-04 - val_loss: 2.2062e-04\n",
      "Epoch 38/50\n",
      "\u001b[1m59/59\u001b[0m \u001b[32m━━━━━━━━━━━━━━━━━━━━\u001b[0m\u001b[37m\u001b[0m \u001b[1m0s\u001b[0m 3ms/step - loss: 2.5705e-04 - val_loss: 2.5363e-04\n",
      "Epoch 39/50\n",
      "\u001b[1m59/59\u001b[0m \u001b[32m━━━━━━━━━━━━━━━━━━━━\u001b[0m\u001b[37m\u001b[0m \u001b[1m0s\u001b[0m 3ms/step - loss: 2.4063e-04 - val_loss: 2.0352e-04\n",
      "Epoch 40/50\n",
      "\u001b[1m59/59\u001b[0m \u001b[32m━━━━━━━━━━━━━━━━━━━━\u001b[0m\u001b[37m\u001b[0m \u001b[1m0s\u001b[0m 3ms/step - loss: 2.4044e-04 - val_loss: 2.8248e-04\n",
      "Epoch 41/50\n",
      "\u001b[1m59/59\u001b[0m \u001b[32m━━━━━━━━━━━━━━━━━━━━\u001b[0m\u001b[37m\u001b[0m \u001b[1m0s\u001b[0m 3ms/step - loss: 2.3194e-04 - val_loss: 2.0224e-04\n",
      "Epoch 42/50\n",
      "\u001b[1m59/59\u001b[0m \u001b[32m━━━━━━━━━━━━━━━━━━━━\u001b[0m\u001b[37m\u001b[0m \u001b[1m0s\u001b[0m 3ms/step - loss: 2.4929e-04 - val_loss: 2.0074e-04\n",
      "Epoch 43/50\n",
      "\u001b[1m59/59\u001b[0m \u001b[32m━━━━━━━━━━━━━━━━━━━━\u001b[0m\u001b[37m\u001b[0m \u001b[1m0s\u001b[0m 3ms/step - loss: 2.3110e-04 - val_loss: 2.4798e-04\n",
      "Epoch 44/50\n",
      "\u001b[1m59/59\u001b[0m \u001b[32m━━━━━━━━━━━━━━━━━━━━\u001b[0m\u001b[37m\u001b[0m \u001b[1m0s\u001b[0m 3ms/step - loss: 2.2226e-04 - val_loss: 1.9970e-04\n",
      "Epoch 45/50\n",
      "\u001b[1m59/59\u001b[0m \u001b[32m━━━━━━━━━━━━━━━━━━━━\u001b[0m\u001b[37m\u001b[0m \u001b[1m0s\u001b[0m 2ms/step - loss: 2.4490e-04 - val_loss: 2.0282e-04\n",
      "Epoch 46/50\n",
      "\u001b[1m59/59\u001b[0m \u001b[32m━━━━━━━━━━━━━━━━━━━━\u001b[0m\u001b[37m\u001b[0m \u001b[1m0s\u001b[0m 3ms/step - loss: 2.5081e-04 - val_loss: 2.0856e-04\n",
      "Epoch 47/50\n",
      "\u001b[1m59/59\u001b[0m \u001b[32m━━━━━━━━━━━━━━━━━━━━\u001b[0m\u001b[37m\u001b[0m \u001b[1m0s\u001b[0m 3ms/step - loss: 2.2663e-04 - val_loss: 2.1358e-04\n",
      "Epoch 48/50\n",
      "\u001b[1m59/59\u001b[0m \u001b[32m━━━━━━━━━━━━━━━━━━━━\u001b[0m\u001b[37m\u001b[0m \u001b[1m0s\u001b[0m 2ms/step - loss: 2.2419e-04 - val_loss: 1.9867e-04\n",
      "Epoch 49/50\n",
      "\u001b[1m59/59\u001b[0m \u001b[32m━━━━━━━━━━━━━━━━━━━━\u001b[0m\u001b[37m\u001b[0m \u001b[1m0s\u001b[0m 3ms/step - loss: 2.5989e-04 - val_loss: 2.1977e-04\n",
      "Epoch 50/50\n",
      "\u001b[1m59/59\u001b[0m \u001b[32m━━━━━━━━━━━━━━━━━━━━\u001b[0m\u001b[37m\u001b[0m \u001b[1m0s\u001b[0m 3ms/step - loss: 2.3999e-04 - val_loss: 2.2274e-04\n",
      "\u001b[1m4/4\u001b[0m \u001b[32m━━━━━━━━━━━━━━━━━━━━\u001b[0m\u001b[37m\u001b[0m \u001b[1m0s\u001b[0m 50ms/step\n"
     ]
    }
   ],
   "source": [
    "lstm_dict = lstm(df, stock)"
   ]
  }
 ],
 "metadata": {
  "kernelspec": {
   "display_name": "venv",
   "language": "python",
   "name": "python3"
  },
  "language_info": {
   "codemirror_mode": {
    "name": "ipython",
    "version": 3
   },
   "file_extension": ".py",
   "mimetype": "text/x-python",
   "name": "python",
   "nbconvert_exporter": "python",
   "pygments_lexer": "ipython3",
   "version": "3.12.10"
  }
 },
 "nbformat": 4,
 "nbformat_minor": 5
}
