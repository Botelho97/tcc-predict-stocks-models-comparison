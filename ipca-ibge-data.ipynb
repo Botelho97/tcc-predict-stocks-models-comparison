{
 "cells": [
  {
   "cell_type": "code",
   "execution_count": 1,
   "id": "e9744bfc",
   "metadata": {},
   "outputs": [],
   "source": [
    "import pandas as pd"
   ]
  },
  {
   "cell_type": "code",
   "execution_count": 2,
   "id": "37c53664",
   "metadata": {},
   "outputs": [],
   "source": [
    "df = pd.read_excel('data/ipca-ibge.xlsx') "
   ]
  },
  {
   "cell_type": "code",
   "execution_count": 3,
   "id": "5f1e3615",
   "metadata": {},
   "outputs": [
    {
     "data": {
      "application/vnd.microsoft.datawrangler.viewer.v0+json": {
       "columns": [
        {
         "name": "index",
         "rawType": "int64",
         "type": "integer"
        },
        {
         "name": "Data",
         "rawType": "datetime64[ns]",
         "type": "datetime"
        },
        {
         "name": "IPCA",
         "rawType": "float64",
         "type": "float"
        },
        {
         "name": "Fator",
         "rawType": "float64",
         "type": "float"
        },
        {
         "name": "IPCA 12 meses",
         "rawType": "float64",
         "type": "float"
        }
       ],
       "conversionMethod": "pd.DataFrame",
       "ref": "fc478b36-9b50-44d4-80fb-ffefaf818095",
       "rows": [
        [
         "365",
         "2024-12-01 00:00:00",
         "0.52",
         "1.0052",
         "0.04831295791859591"
        ],
        [
         "366",
         "2025-01-01 00:00:00",
         "0.16",
         "1.0016",
         "0.04559874392677332"
        ],
        [
         "367",
         "2025-02-01 00:00:00",
         "1.31",
         "1.0131000000000001",
         "0.050576304147787576"
        ],
        [
         "368",
         "2025-03-01 00:00:00",
         "0.56",
         "1.0056",
         "0.05477189641674851"
        ],
        [
         "369",
         "2025-04-01 00:00:00",
         "0.43",
         "1.0043",
         "0.0552972858849774"
        ]
       ],
       "shape": {
        "columns": 4,
        "rows": 5
       }
      },
      "text/html": [
       "<div>\n",
       "<style scoped>\n",
       "    .dataframe tbody tr th:only-of-type {\n",
       "        vertical-align: middle;\n",
       "    }\n",
       "\n",
       "    .dataframe tbody tr th {\n",
       "        vertical-align: top;\n",
       "    }\n",
       "\n",
       "    .dataframe thead th {\n",
       "        text-align: right;\n",
       "    }\n",
       "</style>\n",
       "<table border=\"1\" class=\"dataframe\">\n",
       "  <thead>\n",
       "    <tr style=\"text-align: right;\">\n",
       "      <th></th>\n",
       "      <th>Data</th>\n",
       "      <th>IPCA</th>\n",
       "      <th>Fator</th>\n",
       "      <th>IPCA 12 meses</th>\n",
       "    </tr>\n",
       "  </thead>\n",
       "  <tbody>\n",
       "    <tr>\n",
       "      <th>365</th>\n",
       "      <td>2024-12-01</td>\n",
       "      <td>0.52</td>\n",
       "      <td>1.0052</td>\n",
       "      <td>0.048313</td>\n",
       "    </tr>\n",
       "    <tr>\n",
       "      <th>366</th>\n",
       "      <td>2025-01-01</td>\n",
       "      <td>0.16</td>\n",
       "      <td>1.0016</td>\n",
       "      <td>0.045599</td>\n",
       "    </tr>\n",
       "    <tr>\n",
       "      <th>367</th>\n",
       "      <td>2025-02-01</td>\n",
       "      <td>1.31</td>\n",
       "      <td>1.0131</td>\n",
       "      <td>0.050576</td>\n",
       "    </tr>\n",
       "    <tr>\n",
       "      <th>368</th>\n",
       "      <td>2025-03-01</td>\n",
       "      <td>0.56</td>\n",
       "      <td>1.0056</td>\n",
       "      <td>0.054772</td>\n",
       "    </tr>\n",
       "    <tr>\n",
       "      <th>369</th>\n",
       "      <td>2025-04-01</td>\n",
       "      <td>0.43</td>\n",
       "      <td>1.0043</td>\n",
       "      <td>0.055297</td>\n",
       "    </tr>\n",
       "  </tbody>\n",
       "</table>\n",
       "</div>"
      ],
      "text/plain": [
       "          Data  IPCA   Fator  IPCA 12 meses\n",
       "365 2024-12-01  0.52  1.0052       0.048313\n",
       "366 2025-01-01  0.16  1.0016       0.045599\n",
       "367 2025-02-01  1.31  1.0131       0.050576\n",
       "368 2025-03-01  0.56  1.0056       0.054772\n",
       "369 2025-04-01  0.43  1.0043       0.055297"
      ]
     },
     "execution_count": 3,
     "metadata": {},
     "output_type": "execute_result"
    }
   ],
   "source": [
    "df.tail()"
   ]
  },
  {
   "cell_type": "code",
   "execution_count": 4,
   "id": "53bfb129",
   "metadata": {},
   "outputs": [
    {
     "data": {
      "text/plain": [
       "Index(['Data', 'IPCA', 'Fator', 'IPCA 12 meses'], dtype='object')"
      ]
     },
     "execution_count": 4,
     "metadata": {},
     "output_type": "execute_result"
    }
   ],
   "source": [
    "df.columns"
   ]
  },
  {
   "cell_type": "code",
   "execution_count": 5,
   "id": "68b09ac9",
   "metadata": {},
   "outputs": [],
   "source": [
    "df.drop(columns=[\"IPCA\", \"Fator\"], inplace=True)"
   ]
  },
  {
   "cell_type": "code",
   "execution_count": 8,
   "id": "bb4cc2b6",
   "metadata": {},
   "outputs": [
    {
     "data": {
      "application/vnd.microsoft.datawrangler.viewer.v0+json": {
       "columns": [
        {
         "name": "index",
         "rawType": "int64",
         "type": "integer"
        },
        {
         "name": "Data",
         "rawType": "datetime64[ns]",
         "type": "datetime"
        },
        {
         "name": "IPCA 12 meses",
         "rawType": "float64",
         "type": "float"
        }
       ],
       "conversionMethod": "pd.DataFrame",
       "ref": "24598649-e070-482c-be6f-7ae9d524798f",
       "rows": [
        [
         "0",
         "1994-07-01 00:00:00",
         null
        ],
        [
         "1",
         "1994-08-01 00:00:00",
         null
        ],
        [
         "2",
         "1994-09-01 00:00:00",
         null
        ],
        [
         "3",
         "1994-10-01 00:00:00",
         null
        ],
        [
         "4",
         "1994-11-01 00:00:00",
         null
        ],
        [
         "5",
         "1994-12-01 00:00:00",
         null
        ],
        [
         "6",
         "1995-01-01 00:00:00",
         null
        ],
        [
         "7",
         "1995-02-01 00:00:00",
         null
        ],
        [
         "8",
         "1995-03-01 00:00:00",
         null
        ],
        [
         "9",
         "1995-04-01 00:00:00",
         null
        ],
        [
         "10",
         "1995-05-01 00:00:00",
         null
        ],
        [
         "11",
         "1995-06-01 00:00:00",
         "0.33029429659637066"
        ],
        [
         "12",
         "1995-07-01 00:00:00",
         "0.2745125814264744"
        ],
        [
         "13",
         "1995-08-01 00:00:00",
         "0.2636267975481994"
        ],
        [
         "14",
         "1995-09-01 00:00:00",
         "0.2569060404254182"
        ],
        [
         "15",
         "1995-10-01 00:00:00",
         "0.2420857684617197"
        ],
        [
         "16",
         "1995-11-01 00:00:00",
         "0.2258967311138087"
        ],
        [
         "17",
         "1995-12-01 00:00:00",
         "0.2240888016116256"
        ],
        [
         "18",
         "1996-01-01 00:00:00",
         "0.21975574390680563"
        ],
        [
         "19",
         "1996-02-01 00:00:00",
         "0.21987648789254144"
        ]
       ],
       "shape": {
        "columns": 2,
        "rows": 20
       }
      },
      "text/html": [
       "<div>\n",
       "<style scoped>\n",
       "    .dataframe tbody tr th:only-of-type {\n",
       "        vertical-align: middle;\n",
       "    }\n",
       "\n",
       "    .dataframe tbody tr th {\n",
       "        vertical-align: top;\n",
       "    }\n",
       "\n",
       "    .dataframe thead th {\n",
       "        text-align: right;\n",
       "    }\n",
       "</style>\n",
       "<table border=\"1\" class=\"dataframe\">\n",
       "  <thead>\n",
       "    <tr style=\"text-align: right;\">\n",
       "      <th></th>\n",
       "      <th>Data</th>\n",
       "      <th>IPCA 12 meses</th>\n",
       "    </tr>\n",
       "  </thead>\n",
       "  <tbody>\n",
       "    <tr>\n",
       "      <th>0</th>\n",
       "      <td>1994-07-01</td>\n",
       "      <td>NaN</td>\n",
       "    </tr>\n",
       "    <tr>\n",
       "      <th>1</th>\n",
       "      <td>1994-08-01</td>\n",
       "      <td>NaN</td>\n",
       "    </tr>\n",
       "    <tr>\n",
       "      <th>2</th>\n",
       "      <td>1994-09-01</td>\n",
       "      <td>NaN</td>\n",
       "    </tr>\n",
       "    <tr>\n",
       "      <th>3</th>\n",
       "      <td>1994-10-01</td>\n",
       "      <td>NaN</td>\n",
       "    </tr>\n",
       "    <tr>\n",
       "      <th>4</th>\n",
       "      <td>1994-11-01</td>\n",
       "      <td>NaN</td>\n",
       "    </tr>\n",
       "    <tr>\n",
       "      <th>5</th>\n",
       "      <td>1994-12-01</td>\n",
       "      <td>NaN</td>\n",
       "    </tr>\n",
       "    <tr>\n",
       "      <th>6</th>\n",
       "      <td>1995-01-01</td>\n",
       "      <td>NaN</td>\n",
       "    </tr>\n",
       "    <tr>\n",
       "      <th>7</th>\n",
       "      <td>1995-02-01</td>\n",
       "      <td>NaN</td>\n",
       "    </tr>\n",
       "    <tr>\n",
       "      <th>8</th>\n",
       "      <td>1995-03-01</td>\n",
       "      <td>NaN</td>\n",
       "    </tr>\n",
       "    <tr>\n",
       "      <th>9</th>\n",
       "      <td>1995-04-01</td>\n",
       "      <td>NaN</td>\n",
       "    </tr>\n",
       "    <tr>\n",
       "      <th>10</th>\n",
       "      <td>1995-05-01</td>\n",
       "      <td>NaN</td>\n",
       "    </tr>\n",
       "    <tr>\n",
       "      <th>11</th>\n",
       "      <td>1995-06-01</td>\n",
       "      <td>0.330294</td>\n",
       "    </tr>\n",
       "    <tr>\n",
       "      <th>12</th>\n",
       "      <td>1995-07-01</td>\n",
       "      <td>0.274513</td>\n",
       "    </tr>\n",
       "    <tr>\n",
       "      <th>13</th>\n",
       "      <td>1995-08-01</td>\n",
       "      <td>0.263627</td>\n",
       "    </tr>\n",
       "    <tr>\n",
       "      <th>14</th>\n",
       "      <td>1995-09-01</td>\n",
       "      <td>0.256906</td>\n",
       "    </tr>\n",
       "    <tr>\n",
       "      <th>15</th>\n",
       "      <td>1995-10-01</td>\n",
       "      <td>0.242086</td>\n",
       "    </tr>\n",
       "    <tr>\n",
       "      <th>16</th>\n",
       "      <td>1995-11-01</td>\n",
       "      <td>0.225897</td>\n",
       "    </tr>\n",
       "    <tr>\n",
       "      <th>17</th>\n",
       "      <td>1995-12-01</td>\n",
       "      <td>0.224089</td>\n",
       "    </tr>\n",
       "    <tr>\n",
       "      <th>18</th>\n",
       "      <td>1996-01-01</td>\n",
       "      <td>0.219756</td>\n",
       "    </tr>\n",
       "    <tr>\n",
       "      <th>19</th>\n",
       "      <td>1996-02-01</td>\n",
       "      <td>0.219876</td>\n",
       "    </tr>\n",
       "  </tbody>\n",
       "</table>\n",
       "</div>"
      ],
      "text/plain": [
       "         Data  IPCA 12 meses\n",
       "0  1994-07-01            NaN\n",
       "1  1994-08-01            NaN\n",
       "2  1994-09-01            NaN\n",
       "3  1994-10-01            NaN\n",
       "4  1994-11-01            NaN\n",
       "5  1994-12-01            NaN\n",
       "6  1995-01-01            NaN\n",
       "7  1995-02-01            NaN\n",
       "8  1995-03-01            NaN\n",
       "9  1995-04-01            NaN\n",
       "10 1995-05-01            NaN\n",
       "11 1995-06-01       0.330294\n",
       "12 1995-07-01       0.274513\n",
       "13 1995-08-01       0.263627\n",
       "14 1995-09-01       0.256906\n",
       "15 1995-10-01       0.242086\n",
       "16 1995-11-01       0.225897\n",
       "17 1995-12-01       0.224089\n",
       "18 1996-01-01       0.219756\n",
       "19 1996-02-01       0.219876"
      ]
     },
     "execution_count": 8,
     "metadata": {},
     "output_type": "execute_result"
    }
   ],
   "source": [
    "df.head(20)"
   ]
  },
  {
   "cell_type": "code",
   "execution_count": null,
   "id": "895f9f5a",
   "metadata": {},
   "outputs": [],
   "source": []
  }
 ],
 "metadata": {
  "kernelspec": {
   "display_name": "venv",
   "language": "python",
   "name": "python3"
  },
  "language_info": {
   "codemirror_mode": {
    "name": "ipython",
    "version": 3
   },
   "file_extension": ".py",
   "mimetype": "text/x-python",
   "name": "python",
   "nbconvert_exporter": "python",
   "pygments_lexer": "ipython3",
   "version": "3.12.10"
  }
 },
 "nbformat": 4,
 "nbformat_minor": 5
}
