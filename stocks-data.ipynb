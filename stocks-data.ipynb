{
 "cells": [
  {
   "cell_type": "code",
   "execution_count": 1,
   "id": "8149e2f7",
   "metadata": {},
   "outputs": [],
   "source": [
    "import pandas as pd\n",
    "import yfinance as yf"
   ]
  },
  {
   "cell_type": "code",
   "execution_count": 7,
   "id": "b0637681",
   "metadata": {},
   "outputs": [],
   "source": [
    "def get_stock_price_data(stock_name: str, starting_year: int, ending_year: int) -> pd.Series:\n",
    "    \"\"\"\n",
    "    Get close price data from stock.\n",
    "\n",
    "    Args:\n",
    "        stock_name (str): The stock symbol.\n",
    "        starting_year (int): The year to start collecting data.\n",
    "        ending_year (int): The year to stop collecting data.\n",
    "\n",
    "    Return:\n",
    "        pd.Series: close prices from stock.\n",
    "    \"\"\"\n",
    "    df = yf.Ticker(f'{stock_name}.SA').history(start=f'{starting_year}-01-01', end=f'{ending_year}-12-31')\n",
    "    return df.Close"
   ]
  },
  {
   "cell_type": "code",
   "execution_count": 9,
   "id": "240ca804",
   "metadata": {},
   "outputs": [
    {
     "data": {
      "text/plain": [
       "Date\n",
       "2024-12-20 00:00:00-03:00    24.080000\n",
       "2024-12-23 00:00:00-03:00    23.920000\n",
       "2024-12-26 00:00:00-03:00    24.200001\n",
       "2024-12-27 00:00:00-03:00    24.110001\n",
       "2024-12-30 00:00:00-03:00    24.170000\n",
       "Name: Close, dtype: float64"
      ]
     },
     "execution_count": 9,
     "metadata": {},
     "output_type": "execute_result"
    }
   ],
   "source": [
    "bb_df = get_stock_price_data(stock_name=\"BBAS3\", starting_year=2017, ending_year=2024)\n",
    "bb_df.tail()"
   ]
  },
  {
   "cell_type": "code",
   "execution_count": null,
   "id": "6fdb2a87",
   "metadata": {},
   "outputs": [],
   "source": []
  }
 ],
 "metadata": {
  "kernelspec": {
   "display_name": "venv",
   "language": "python",
   "name": "python3"
  },
  "language_info": {
   "codemirror_mode": {
    "name": "ipython",
    "version": 3
   },
   "file_extension": ".py",
   "mimetype": "text/x-python",
   "name": "python",
   "nbconvert_exporter": "python",
   "pygments_lexer": "ipython3",
   "version": "3.12.10"
  }
 },
 "nbformat": 4,
 "nbformat_minor": 5
}
