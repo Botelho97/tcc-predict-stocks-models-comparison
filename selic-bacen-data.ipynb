{
 "cells": [
  {
   "cell_type": "code",
   "execution_count": 1,
   "id": "78b44115",
   "metadata": {},
   "outputs": [],
   "source": [
    "import pandas as pd"
   ]
  },
  {
   "cell_type": "code",
   "execution_count": 5,
   "id": "eafc4f4f",
   "metadata": {},
   "outputs": [
    {
     "name": "stderr",
     "output_type": "stream",
     "text": [
      "<>:1: SyntaxWarning: invalid escape sequence '\\s'\n",
      "<>:1: SyntaxWarning: invalid escape sequence '\\s'\n",
      "C:\\Users\\felip\\AppData\\Local\\Temp\\ipykernel_2596\\1195093741.py:1: SyntaxWarning: invalid escape sequence '\\s'\n",
      "  df = pd.read_csv('data\\selic-bacen.csv', sep=';', encoding='latin1')\n"
     ]
    }
   ],
   "source": [
    "df = pd.read_csv('data\\selic-bacen.csv', sep=';', encoding='latin1')"
   ]
  },
  {
   "cell_type": "code",
   "execution_count": 6,
   "id": "418268f1",
   "metadata": {},
   "outputs": [
    {
     "data": {
      "text/plain": [
       "<bound method NDFrame.head of             Data 11 - Taxa de juros - Selic - % a.d. Selic Anualizada\n",
       "0     02/01/2017                            0,050788          0,1375 \n",
       "1     03/01/2017                            0,050788          0,1375 \n",
       "2     04/01/2017                            0,050788          0,1375 \n",
       "3     05/01/2017                            0,050788          0,1375 \n",
       "4     06/01/2017                            0,050788          0,1375 \n",
       "...          ...                                 ...              ...\n",
       "2095  13/05/2025                            0,054266          0,1475 \n",
       "2096  14/05/2025                            0,054266          0,1475 \n",
       "2097  15/05/2025                            0,054266          0,1475 \n",
       "2098  16/05/2025                            0,054266          0,1475 \n",
       "2099         NaN                                 NaN              NaN\n",
       "\n",
       "[2100 rows x 3 columns]>"
      ]
     },
     "execution_count": 6,
     "metadata": {},
     "output_type": "execute_result"
    }
   ],
   "source": [
    "df.head"
   ]
  },
  {
   "cell_type": "code",
   "execution_count": 7,
   "id": "3b95daab",
   "metadata": {},
   "outputs": [
    {
     "name": "stdout",
     "output_type": "stream",
     "text": [
      "<class 'pandas.core.frame.DataFrame'>\n",
      "RangeIndex: 2100 entries, 0 to 2099\n",
      "Data columns (total 3 columns):\n",
      " #   Column                               Non-Null Count  Dtype \n",
      "---  ------                               --------------  ----- \n",
      " 0   Data                                 2099 non-null   object\n",
      " 1   11 - Taxa de juros - Selic - % a.d.  2099 non-null   object\n",
      " 2   Selic Anualizada                     2099 non-null   object\n",
      "dtypes: object(3)\n",
      "memory usage: 49.3+ KB\n"
     ]
    }
   ],
   "source": [
    "df.info()"
   ]
  },
  {
   "cell_type": "code",
   "execution_count": 8,
   "id": "f8a2f346",
   "metadata": {},
   "outputs": [],
   "source": [
    "df['Data'] = pd.to_datetime(df['Data'], format='%d/%m/%Y')"
   ]
  },
  {
   "cell_type": "code",
   "execution_count": 9,
   "id": "38f13f93",
   "metadata": {},
   "outputs": [
    {
     "data": {
      "text/plain": [
       "0   2017-01-02\n",
       "1   2017-01-03\n",
       "2   2017-01-04\n",
       "3   2017-01-05\n",
       "4   2017-01-06\n",
       "Name: Data, dtype: datetime64[ns]"
      ]
     },
     "execution_count": 9,
     "metadata": {},
     "output_type": "execute_result"
    }
   ],
   "source": [
    "df['Data'].head()"
   ]
  },
  {
   "cell_type": "code",
   "execution_count": 11,
   "id": "38ce23bc",
   "metadata": {},
   "outputs": [
    {
     "data": {
      "text/plain": [
       "Index(['Data', '11 - Taxa de juros - Selic - % a.d.', 'Selic Anualizada'], dtype='object')"
      ]
     },
     "execution_count": 11,
     "metadata": {},
     "output_type": "execute_result"
    }
   ],
   "source": [
    "df.columns"
   ]
  },
  {
   "cell_type": "code",
   "execution_count": 12,
   "id": "5bf78018",
   "metadata": {},
   "outputs": [
    {
     "data": {
      "text/plain": [
       "0    0.1375\n",
       "1    0.1375\n",
       "2    0.1375\n",
       "3    0.1375\n",
       "4    0.1375\n",
       "Name: Selic Anualizada, dtype: float64"
      ]
     },
     "execution_count": 12,
     "metadata": {},
     "output_type": "execute_result"
    }
   ],
   "source": [
    "df[\"Selic Anualizada\"] = df[\"Selic Anualizada\"].str.replace(',', '.').astype(float)\n",
    "df[\"Selic Anualizada\"].head()"
   ]
  },
  {
   "cell_type": "code",
   "execution_count": 13,
   "id": "971afd9b",
   "metadata": {},
   "outputs": [],
   "source": [
    "df.drop(\"11 - Taxa de juros - Selic - % a.d.\", axis=1, inplace=True)"
   ]
  },
  {
   "cell_type": "code",
   "execution_count": 14,
   "id": "0065b954",
   "metadata": {},
   "outputs": [
    {
     "data": {
      "application/vnd.microsoft.datawrangler.viewer.v0+json": {
       "columns": [
        {
         "name": "index",
         "rawType": "int64",
         "type": "integer"
        },
        {
         "name": "Data",
         "rawType": "datetime64[ns]",
         "type": "datetime"
        },
        {
         "name": "Selic Anualizada",
         "rawType": "float64",
         "type": "float"
        }
       ],
       "conversionMethod": "pd.DataFrame",
       "ref": "8eb3f66e-a345-4555-815f-c15db892fc57",
       "rows": [
        [
         "0",
         "2017-01-02 00:00:00",
         "0.1375"
        ],
        [
         "1",
         "2017-01-03 00:00:00",
         "0.1375"
        ],
        [
         "2",
         "2017-01-04 00:00:00",
         "0.1375"
        ],
        [
         "3",
         "2017-01-05 00:00:00",
         "0.1375"
        ],
        [
         "4",
         "2017-01-06 00:00:00",
         "0.1375"
        ]
       ],
       "shape": {
        "columns": 2,
        "rows": 5
       }
      },
      "text/html": [
       "<div>\n",
       "<style scoped>\n",
       "    .dataframe tbody tr th:only-of-type {\n",
       "        vertical-align: middle;\n",
       "    }\n",
       "\n",
       "    .dataframe tbody tr th {\n",
       "        vertical-align: top;\n",
       "    }\n",
       "\n",
       "    .dataframe thead th {\n",
       "        text-align: right;\n",
       "    }\n",
       "</style>\n",
       "<table border=\"1\" class=\"dataframe\">\n",
       "  <thead>\n",
       "    <tr style=\"text-align: right;\">\n",
       "      <th></th>\n",
       "      <th>Data</th>\n",
       "      <th>Selic Anualizada</th>\n",
       "    </tr>\n",
       "  </thead>\n",
       "  <tbody>\n",
       "    <tr>\n",
       "      <th>0</th>\n",
       "      <td>2017-01-02</td>\n",
       "      <td>0.1375</td>\n",
       "    </tr>\n",
       "    <tr>\n",
       "      <th>1</th>\n",
       "      <td>2017-01-03</td>\n",
       "      <td>0.1375</td>\n",
       "    </tr>\n",
       "    <tr>\n",
       "      <th>2</th>\n",
       "      <td>2017-01-04</td>\n",
       "      <td>0.1375</td>\n",
       "    </tr>\n",
       "    <tr>\n",
       "      <th>3</th>\n",
       "      <td>2017-01-05</td>\n",
       "      <td>0.1375</td>\n",
       "    </tr>\n",
       "    <tr>\n",
       "      <th>4</th>\n",
       "      <td>2017-01-06</td>\n",
       "      <td>0.1375</td>\n",
       "    </tr>\n",
       "  </tbody>\n",
       "</table>\n",
       "</div>"
      ],
      "text/plain": [
       "        Data  Selic Anualizada\n",
       "0 2017-01-02            0.1375\n",
       "1 2017-01-03            0.1375\n",
       "2 2017-01-04            0.1375\n",
       "3 2017-01-05            0.1375\n",
       "4 2017-01-06            0.1375"
      ]
     },
     "execution_count": 14,
     "metadata": {},
     "output_type": "execute_result"
    }
   ],
   "source": [
    "df.head()"
   ]
  },
  {
   "cell_type": "code",
   "execution_count": null,
   "id": "5b7805d1",
   "metadata": {},
   "outputs": [],
   "source": []
  }
 ],
 "metadata": {
  "kernelspec": {
   "display_name": "venv",
   "language": "python",
   "name": "python3"
  },
  "language_info": {
   "codemirror_mode": {
    "name": "ipython",
    "version": 3
   },
   "file_extension": ".py",
   "mimetype": "text/x-python",
   "name": "python",
   "nbconvert_exporter": "python",
   "pygments_lexer": "ipython3",
   "version": "3.12.10"
  }
 },
 "nbformat": 4,
 "nbformat_minor": 5
}
