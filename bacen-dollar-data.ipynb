{
 "cells": [
  {
   "cell_type": "code",
   "execution_count": 9,
   "id": "d55fa58b",
   "metadata": {},
   "outputs": [],
   "source": [
    "import requests\n",
    "import pandas as pd"
   ]
  },
  {
   "cell_type": "code",
   "execution_count": 10,
   "id": "3019d562",
   "metadata": {},
   "outputs": [],
   "source": [
    "base_url = \"https://olinda.bcb.gov.br/olinda/servico/PTAX/versao/v1/odata/CotacaoDolarPeriodo(dataInicial=@dataInicial,dataFinalCotacao=@dataFinalCotacao)?@dataInicial='01-01-2017'&@dataFinalCotacao='12-31-2024'&$top=100000&$format=json\"\n",
    "\n",
    "response = (requests.get(base_url)).json()"
   ]
  },
  {
   "cell_type": "code",
   "execution_count": 11,
   "id": "83f28fb0",
   "metadata": {},
   "outputs": [],
   "source": [
    "df = pd.DataFrame(response[\"value\"])"
   ]
  },
  {
   "cell_type": "code",
   "execution_count": 12,
   "id": "d0cd5899",
   "metadata": {},
   "outputs": [
    {
     "data": {
      "application/vnd.microsoft.datawrangler.viewer.v0+json": {
       "columns": [
        {
         "name": "index",
         "rawType": "int64",
         "type": "integer"
        },
        {
         "name": "cotacaoCompra",
         "rawType": "float64",
         "type": "float"
        },
        {
         "name": "cotacaoVenda",
         "rawType": "float64",
         "type": "float"
        },
        {
         "name": "dataHoraCotacao",
         "rawType": "object",
         "type": "string"
        }
       ],
       "conversionMethod": "pd.DataFrame",
       "ref": "bfbf1aad-1a53-45a6-a31f-be75ec34da2d",
       "rows": [
        [
         "0",
         "3.2723",
         "3.2729",
         "2017-01-02 13:07:18.146"
        ],
        [
         "1",
         "3.2626",
         "3.2632",
         "2017-01-03 13:07:34.023"
        ],
        [
         "2",
         "3.2327",
         "3.2333",
         "2017-01-04 13:11:50.501"
        ],
        [
         "3",
         "3.2123",
         "3.2129",
         "2017-01-05 13:04:07.266"
        ],
        [
         "4",
         "3.2051",
         "3.2057",
         "2017-01-06 13:13:42.955"
        ]
       ],
       "shape": {
        "columns": 3,
        "rows": 5
       }
      },
      "text/html": [
       "<div>\n",
       "<style scoped>\n",
       "    .dataframe tbody tr th:only-of-type {\n",
       "        vertical-align: middle;\n",
       "    }\n",
       "\n",
       "    .dataframe tbody tr th {\n",
       "        vertical-align: top;\n",
       "    }\n",
       "\n",
       "    .dataframe thead th {\n",
       "        text-align: right;\n",
       "    }\n",
       "</style>\n",
       "<table border=\"1\" class=\"dataframe\">\n",
       "  <thead>\n",
       "    <tr style=\"text-align: right;\">\n",
       "      <th></th>\n",
       "      <th>cotacaoCompra</th>\n",
       "      <th>cotacaoVenda</th>\n",
       "      <th>dataHoraCotacao</th>\n",
       "    </tr>\n",
       "  </thead>\n",
       "  <tbody>\n",
       "    <tr>\n",
       "      <th>0</th>\n",
       "      <td>3.2723</td>\n",
       "      <td>3.2729</td>\n",
       "      <td>2017-01-02 13:07:18.146</td>\n",
       "    </tr>\n",
       "    <tr>\n",
       "      <th>1</th>\n",
       "      <td>3.2626</td>\n",
       "      <td>3.2632</td>\n",
       "      <td>2017-01-03 13:07:34.023</td>\n",
       "    </tr>\n",
       "    <tr>\n",
       "      <th>2</th>\n",
       "      <td>3.2327</td>\n",
       "      <td>3.2333</td>\n",
       "      <td>2017-01-04 13:11:50.501</td>\n",
       "    </tr>\n",
       "    <tr>\n",
       "      <th>3</th>\n",
       "      <td>3.2123</td>\n",
       "      <td>3.2129</td>\n",
       "      <td>2017-01-05 13:04:07.266</td>\n",
       "    </tr>\n",
       "    <tr>\n",
       "      <th>4</th>\n",
       "      <td>3.2051</td>\n",
       "      <td>3.2057</td>\n",
       "      <td>2017-01-06 13:13:42.955</td>\n",
       "    </tr>\n",
       "  </tbody>\n",
       "</table>\n",
       "</div>"
      ],
      "text/plain": [
       "   cotacaoCompra  cotacaoVenda          dataHoraCotacao\n",
       "0         3.2723        3.2729  2017-01-02 13:07:18.146\n",
       "1         3.2626        3.2632  2017-01-03 13:07:34.023\n",
       "2         3.2327        3.2333  2017-01-04 13:11:50.501\n",
       "3         3.2123        3.2129  2017-01-05 13:04:07.266\n",
       "4         3.2051        3.2057  2017-01-06 13:13:42.955"
      ]
     },
     "execution_count": 12,
     "metadata": {},
     "output_type": "execute_result"
    }
   ],
   "source": [
    "df.head()"
   ]
  },
  {
   "cell_type": "code",
   "execution_count": 13,
   "id": "2d30db59",
   "metadata": {},
   "outputs": [
    {
     "data": {
      "application/vnd.microsoft.datawrangler.viewer.v0+json": {
       "columns": [
        {
         "name": "index",
         "rawType": "int64",
         "type": "integer"
        },
        {
         "name": "cotacaoCompra",
         "rawType": "float64",
         "type": "float"
        },
        {
         "name": "cotacaoVenda",
         "rawType": "float64",
         "type": "float"
        },
        {
         "name": "dataHoraCotacao",
         "rawType": "object",
         "type": "string"
        }
       ],
       "conversionMethod": "pd.DataFrame",
       "ref": "c2b4aba5-55d8-4f54-a203-791319d8ef64",
       "rows": [
        [
         "2002",
         "6.1527",
         "6.1541",
         "2024-12-24 11:10:05.681"
        ],
        [
         "2003",
         "6.165",
         "6.1656",
         "2024-12-26 13:09:30.003"
        ],
        [
         "2004",
         "6.1985",
         "6.1991",
         "2024-12-27 13:03:30.393"
        ],
        [
         "2005",
         "6.1917",
         "6.1923",
         "2024-12-30 13:06:26.618"
        ],
        [
         "2006",
         "6.1917",
         "6.1923",
         "2024-12-31 10:04:09.264"
        ]
       ],
       "shape": {
        "columns": 3,
        "rows": 5
       }
      },
      "text/html": [
       "<div>\n",
       "<style scoped>\n",
       "    .dataframe tbody tr th:only-of-type {\n",
       "        vertical-align: middle;\n",
       "    }\n",
       "\n",
       "    .dataframe tbody tr th {\n",
       "        vertical-align: top;\n",
       "    }\n",
       "\n",
       "    .dataframe thead th {\n",
       "        text-align: right;\n",
       "    }\n",
       "</style>\n",
       "<table border=\"1\" class=\"dataframe\">\n",
       "  <thead>\n",
       "    <tr style=\"text-align: right;\">\n",
       "      <th></th>\n",
       "      <th>cotacaoCompra</th>\n",
       "      <th>cotacaoVenda</th>\n",
       "      <th>dataHoraCotacao</th>\n",
       "    </tr>\n",
       "  </thead>\n",
       "  <tbody>\n",
       "    <tr>\n",
       "      <th>2002</th>\n",
       "      <td>6.1527</td>\n",
       "      <td>6.1541</td>\n",
       "      <td>2024-12-24 11:10:05.681</td>\n",
       "    </tr>\n",
       "    <tr>\n",
       "      <th>2003</th>\n",
       "      <td>6.1650</td>\n",
       "      <td>6.1656</td>\n",
       "      <td>2024-12-26 13:09:30.003</td>\n",
       "    </tr>\n",
       "    <tr>\n",
       "      <th>2004</th>\n",
       "      <td>6.1985</td>\n",
       "      <td>6.1991</td>\n",
       "      <td>2024-12-27 13:03:30.393</td>\n",
       "    </tr>\n",
       "    <tr>\n",
       "      <th>2005</th>\n",
       "      <td>6.1917</td>\n",
       "      <td>6.1923</td>\n",
       "      <td>2024-12-30 13:06:26.618</td>\n",
       "    </tr>\n",
       "    <tr>\n",
       "      <th>2006</th>\n",
       "      <td>6.1917</td>\n",
       "      <td>6.1923</td>\n",
       "      <td>2024-12-31 10:04:09.264</td>\n",
       "    </tr>\n",
       "  </tbody>\n",
       "</table>\n",
       "</div>"
      ],
      "text/plain": [
       "      cotacaoCompra  cotacaoVenda          dataHoraCotacao\n",
       "2002         6.1527        6.1541  2024-12-24 11:10:05.681\n",
       "2003         6.1650        6.1656  2024-12-26 13:09:30.003\n",
       "2004         6.1985        6.1991  2024-12-27 13:03:30.393\n",
       "2005         6.1917        6.1923  2024-12-30 13:06:26.618\n",
       "2006         6.1917        6.1923  2024-12-31 10:04:09.264"
      ]
     },
     "execution_count": 13,
     "metadata": {},
     "output_type": "execute_result"
    }
   ],
   "source": [
    "df.tail()"
   ]
  },
  {
   "cell_type": "code",
   "execution_count": 15,
   "id": "536829a8",
   "metadata": {},
   "outputs": [
    {
     "data": {
      "text/plain": [
       "Index(['cotacaoCompra', 'cotacaoVenda', 'dataHoraCotacao'], dtype='object')"
      ]
     },
     "execution_count": 15,
     "metadata": {},
     "output_type": "execute_result"
    }
   ],
   "source": [
    "df.columns"
   ]
  },
  {
   "cell_type": "code",
   "execution_count": 21,
   "id": "4e175e4c",
   "metadata": {},
   "outputs": [],
   "source": [
    "df.drop(\"cotacaoVenda\", axis=1, inplace=True)"
   ]
  },
  {
   "cell_type": "code",
   "execution_count": 17,
   "id": "6fb97877",
   "metadata": {},
   "outputs": [],
   "source": [
    "df[\"dataHoraCotacao\"] = pd.to_datetime(df[\"dataHoraCotacao\"])\n",
    "df[\"dataHoraCotacao\"] = pd.to_datetime(df[\"dataHoraCotacao\"].dt.strftime(\"%Y-%m-%d\"))"
   ]
  },
  {
   "cell_type": "code",
   "execution_count": 23,
   "id": "77db910e",
   "metadata": {},
   "outputs": [
    {
     "data": {
      "application/vnd.microsoft.datawrangler.viewer.v0+json": {
       "columns": [
        {
         "name": "index",
         "rawType": "int64",
         "type": "integer"
        },
        {
         "name": "cotacaoCompra",
         "rawType": "float64",
         "type": "float"
        },
        {
         "name": "dataHoraCotacao",
         "rawType": "datetime64[ns]",
         "type": "datetime"
        }
       ],
       "conversionMethod": "pd.DataFrame",
       "ref": "5f69a8e5-cc0f-4af6-b731-2154aca9945a",
       "rows": [
        [
         "0",
         "3.2723",
         "2017-01-02 00:00:00"
        ],
        [
         "1",
         "3.2626",
         "2017-01-03 00:00:00"
        ],
        [
         "2",
         "3.2327",
         "2017-01-04 00:00:00"
        ],
        [
         "3",
         "3.2123",
         "2017-01-05 00:00:00"
        ],
        [
         "4",
         "3.2051",
         "2017-01-06 00:00:00"
        ]
       ],
       "shape": {
        "columns": 2,
        "rows": 5
       }
      },
      "text/html": [
       "<div>\n",
       "<style scoped>\n",
       "    .dataframe tbody tr th:only-of-type {\n",
       "        vertical-align: middle;\n",
       "    }\n",
       "\n",
       "    .dataframe tbody tr th {\n",
       "        vertical-align: top;\n",
       "    }\n",
       "\n",
       "    .dataframe thead th {\n",
       "        text-align: right;\n",
       "    }\n",
       "</style>\n",
       "<table border=\"1\" class=\"dataframe\">\n",
       "  <thead>\n",
       "    <tr style=\"text-align: right;\">\n",
       "      <th></th>\n",
       "      <th>cotacaoCompra</th>\n",
       "      <th>dataHoraCotacao</th>\n",
       "    </tr>\n",
       "  </thead>\n",
       "  <tbody>\n",
       "    <tr>\n",
       "      <th>0</th>\n",
       "      <td>3.2723</td>\n",
       "      <td>2017-01-02</td>\n",
       "    </tr>\n",
       "    <tr>\n",
       "      <th>1</th>\n",
       "      <td>3.2626</td>\n",
       "      <td>2017-01-03</td>\n",
       "    </tr>\n",
       "    <tr>\n",
       "      <th>2</th>\n",
       "      <td>3.2327</td>\n",
       "      <td>2017-01-04</td>\n",
       "    </tr>\n",
       "    <tr>\n",
       "      <th>3</th>\n",
       "      <td>3.2123</td>\n",
       "      <td>2017-01-05</td>\n",
       "    </tr>\n",
       "    <tr>\n",
       "      <th>4</th>\n",
       "      <td>3.2051</td>\n",
       "      <td>2017-01-06</td>\n",
       "    </tr>\n",
       "  </tbody>\n",
       "</table>\n",
       "</div>"
      ],
      "text/plain": [
       "   cotacaoCompra dataHoraCotacao\n",
       "0         3.2723      2017-01-02\n",
       "1         3.2626      2017-01-03\n",
       "2         3.2327      2017-01-04\n",
       "3         3.2123      2017-01-05\n",
       "4         3.2051      2017-01-06"
      ]
     },
     "execution_count": 23,
     "metadata": {},
     "output_type": "execute_result"
    }
   ],
   "source": [
    "df.head()"
   ]
  },
  {
   "cell_type": "code",
   "execution_count": 24,
   "id": "63483f9a",
   "metadata": {},
   "outputs": [
    {
     "name": "stdout",
     "output_type": "stream",
     "text": [
      "<class 'pandas.core.frame.DataFrame'>\n",
      "RangeIndex: 2007 entries, 0 to 2006\n",
      "Data columns (total 2 columns):\n",
      " #   Column           Non-Null Count  Dtype         \n",
      "---  ------           --------------  -----         \n",
      " 0   cotacaoCompra    2007 non-null   float64       \n",
      " 1   dataHoraCotacao  2007 non-null   datetime64[ns]\n",
      "dtypes: datetime64[ns](1), float64(1)\n",
      "memory usage: 31.5 KB\n"
     ]
    }
   ],
   "source": [
    "df.info()"
   ]
  },
  {
   "cell_type": "code",
   "execution_count": null,
   "id": "46c3259e",
   "metadata": {},
   "outputs": [],
   "source": []
  }
 ],
 "metadata": {
  "kernelspec": {
   "display_name": "venv",
   "language": "python",
   "name": "python3"
  },
  "language_info": {
   "codemirror_mode": {
    "name": "ipython",
    "version": 3
   },
   "file_extension": ".py",
   "mimetype": "text/x-python",
   "name": "python",
   "nbconvert_exporter": "python",
   "pygments_lexer": "ipython3",
   "version": "3.12.10"
  }
 },
 "nbformat": 4,
 "nbformat_minor": 5
}
